{
 "cells": [
  {
   "cell_type": "markdown",
   "metadata": {},
   "source": [
    "<a id='Top'></a>\n",
    "# Python - Data cleaning"
   ]
  },
  {
   "cell_type": "markdown",
   "metadata": {},
   "source": [
    "We'll perform data cleaning on a real-world data set of artworks contained in the Museum of Modern Art (MoMA). MoMA, a museum in New York City, has one of the largest collections of modern art in the world.\n",
    "\n",
    "In this exercise, we parse numbers from complex string and exercise differnt methods in manupuating strings.\n",
    "\n",
    "*This exercise is a part of Dataquest.io class of \"Python for Data Science: Fundamentals.\"*"
   ]
  },
  {
   "cell_type": "markdown",
   "metadata": {},
   "source": [
    "*The dataset can be found at: \n",
    "https://www.kaggle.com/momanyc/museum-collection*\n",
    "\n",
    "### Below is the explanation of each column:\n",
    "- Title: The title of the artwork.\n",
    "- Artist: The name of the artist who created the artwork.\n",
    "- Nationality: The nationality of the artist.\n",
    "- BeginDate: The year in which the artist was born.\n",
    "- EndDate: The year in which the artist died.\n",
    "- Gender: The gender of the artist.\n",
    "- Date: The date that the artwork was created.\n",
    "- Department: The department inside MoMA to which the artwork belongs."
   ]
  },
  {
   "cell_type": "markdown",
   "metadata": {},
   "source": [
    "**Jump to different sections:**\n",
    "[Process Gender and Nationality columns](#gender_nation)\n",
    "\n",
    "[Process data from Begin/EndDate column](#begin_end_date)\n",
    "\n",
    "[Process data from the Date column](#date)\n",
    "\n",
    "[Calculate the age where the artist create the art](#age)"
   ]
  },
  {
   "cell_type": "code",
   "execution_count": null,
   "metadata": {},
   "outputs": [],
   "source": [
    "open_file = open('/Users/spare/Downloads/projects_python/Artworks.csv')\n",
    "\n",
    "from csv import reader\n",
    "moma_file = reader(open_file)\n",
    "moma = list(moma_file)\n",
    "\n",
    "num_rows = len(moma)\n",
    "print('Number of row in the record:', num_rows)\n",
    "print('\\nPrint of first couple rows:\\n')\n",
    "print(moma[0],'\\n')\n",
    "print(moma[1])\n",
    "\n",
    "#Limit the size of the data\n",
    "moma=moma[1:2000]\n",
    "#moma=moma[1:]"
   ]
  },
  {
   "cell_type": "markdown",
   "metadata": {},
   "source": [
    "<a id='gender_nation'></a>\n",
    "## Process Gender and Nationality columns\n",
    "- Remove \"(\" and \")\" from Nationality column (index 4) and \"Gender\" (index 7).\n",
    "- Use str.title( ) to format the columns.\n",
    "- Using string.replace()\n",
    "- Assign value to empty string for the 2 columns. "
   ]
  },
  {
   "cell_type": "code",
   "execution_count": null,
   "metadata": {},
   "outputs": [],
   "source": [
    "for row in moma:\n",
    "    gender = str(row[7])\n",
    "    gender = gender.title()\n",
    "    nationality = str(row[4])\n",
    "    nationality = nationality.title()\n",
    "\n",
    "    if gender == \"\":\n",
    "        gender = \"Gender Unknown/Other\"\n",
    "    row[7]=gender\n",
    "    \n",
    "    if nationality == \"\":\n",
    "        nationality = \"Nationality Unknown\"\n",
    "    row[4]=nationality"
   ]
  },
  {
   "cell_type": "markdown",
   "metadata": {},
   "source": [
    "<a id='begin_end_date'></a>\n",
    "[Back to Top](#Top)\n",
    "\n",
    "## Process BeginDate and EndDate columns\n",
    "We'll now look at the BeginDate and EndDate columns. These columns contain the birth and death dates of the artist who created the work.\n",
    "- Remove the parentheses from the start and the end of each value.\n",
    "- Convert the values from the string type to an integer type. This will help us perform calculations with them later."
   ]
  },
  {
   "cell_type": "code",
   "execution_count": null,
   "metadata": {},
   "outputs": [],
   "source": [
    "test_data = [\"-1841\", \"(1932) (0)\",\"(1944) (1945)\",\"(1931) (1945)   (0)\", 1983]\n",
    "bad_char = [\"-\", \"(\", \")\"]\n",
    "new_test_data=[]\n",
    "\n",
    "def process_begin_end_date(a_str):\n",
    "    #first convert input to string.\n",
    "    if isinstance(a_str,(int)):\n",
    "        a_str = str(a_str)\n",
    "    \n",
    "    new_a_str = []\n",
    "#     print('String to process:',a_str)\n",
    "    for bad in bad_char:\n",
    "        if bad in a_str:\n",
    "            a_str = a_str.replace(bad,\" \")\n",
    "        \n",
    "    a_str=a_str.split(\" \")\n",
    "    #print(a_str)\n",
    "    for index in a_str:\n",
    "        if index != \"\":\n",
    "            new_a_str.append(int(index))\n",
    "#             print(index)\n",
    "                \n",
    "    return new_a_str\n",
    "\n",
    "#For testing\n",
    "#a = process_begin_end_date(\"(1932) (0)\")\n",
    "#print(a)\n",
    "\n",
    "for ele in test_data:\n",
    "    new_ele = process_begin_end_date(ele)\n",
    "    new_test_data.append(new_ele)\n",
    "\n",
    "print(new_test_data)\n",
    "print(type(new_test_data[0][0]))\n",
    "    "
   ]
  },
  {
   "cell_type": "markdown",
   "metadata": {},
   "source": [
    "<a id='date'></a>\n",
    "[Back to Top](#Top)\n",
    "## Process data from the Date column\n",
    "- The strip_characters() function to remove the bad characters and use it on test_data.\n",
    "- The \"bad characters\" are described in bad_chars. \n",
    "    - These are the characters that will be stripped out of the string. \n",
    "- The bad_string is used to described strings that are not allowable. "
   ]
  },
  {
   "cell_type": "code",
   "execution_count": null,
   "metadata": {},
   "outputs": [],
   "source": [
    "def strip_characters(a_str):\n",
    "    \n",
    "    #Convert input to a string\n",
    "    if not isinstance(a_str,(str)):\n",
    "        #print('convert to string:', a_str)\n",
    "        a_str = str(a_str)\n",
    "    \n",
    "    a_str = a_str.lower() #convert the string to lower case\n",
    "    \n",
    "    for char in bad_chars: #replace bar_chars character in the string with \"\"\n",
    "        a_str = a_str.replace(char,\"\")\n",
    "            \n",
    "    for ele in bad_string: #string that have unallowable string will be 0\n",
    "        if ele in a_str:\n",
    "            #print('ele: ', ele,'in string: ', a_str)\n",
    "            a_str = '0'        \n",
    "    \n",
    "    return a_str\n",
    "\n",
    "bad_chars = [\"(\",\")\",\"c\",\"C\", \".\",\"s\",\"'\", \" \", \";\"]\n",
    "bad_string = [\"unknown\", \"n\", \"b\", \"a\", \"e\", \"l\", \n",
    "              \"model\", \"variou\", \"moow\", \"?\", \"ot\", \"/\" ]\n",
    "\n",
    "test_data = [\"1912\", \"1929\", \"1913-1923\",\n",
    "             \"(1951)\", \"1994\", \"1934\",\n",
    "             \"c. 1915\", \"1995\", \"c. 1912\",\n",
    "             \"(1988)\", \"2002\", \"1957-1959\",\n",
    "             \"c. 1955.\", \"c. 1970's\", \n",
    "             \"C. 1990-1999\", \n",
    "             \"Unknown\", \"n.d.\", 1983, \"2001–2002\", \n",
    "             \"before 1933\", \"after 2001\", \"early 1132\", \"Early 1950\",\n",
    "             \"1933,model1987\", \"a 1986\",\n",
    "             \"1976-77\", \".1-3 1987; .4 1990\" ]\n",
    "\n",
    "print('test_data=\\n',test_data)\n",
    "#***Becareful, there is different between – and - \n",
    "#   Different ASCII, 45 and 8211.\n",
    "\n",
    "stripped_test_data =[]\n",
    "\n",
    "for ele in test_data:\n",
    "    #print(type(ele))\n",
    "    new_string = strip_characters(ele)\n",
    "    stripped_test_data.append(new_string)\n",
    "\n",
    "print('\\nstripped_test_data=\\n',stripped_test_data)"
   ]
  },
  {
   "cell_type": "markdown",
   "metadata": {},
   "source": [
    "**There are two different scenarios that we need to cater for when converting these to integers:**\n",
    "- Some are a single year, e.g. 1912.\n",
    "- Some are ranges of years, e.g. 1913-1923.\n",
    "\n",
    "Here are the ways we'll treat the various cases:\n",
    "- Where there is a single year, we'll keep it.\n",
    "- Where there is a year range, we'll average the two years.\n",
    "\n",
    "We want to write code that does the following for each value:\n",
    "- Checks if the dash character (-) is in the string so we know if it's a range or not.\n",
    "- If the date is a range:\n",
    "    - Splits the string into two strings, before and after the dash character.\n",
    "    - Converts the two numbers to the integer type and then average them by adding them together and dividing by two.\n",
    "    - Uses the round() function to round the average, so values like 1964.5 become 1964.\n",
    "- If the date isn't a range:\n",
    "    - Converts the value to an integer type."
   ]
  },
  {
   "cell_type": "code",
   "execution_count": null,
   "metadata": {},
   "outputs": [],
   "source": [
    "def process_date(some_string):\n",
    "    #Assume some_string is already a string because strip_characters function \n",
    "    # will be executed first.\n",
    "    \n",
    "    new_string=0\n",
    "    if \"-\" in some_string: #ascii 45\n",
    "        split_string = some_string.split(\"-\")\n",
    "        split_string[0] = int(split_string[0])\n",
    "        split_string[1] = int(split_string[1])\n",
    "        if 3000>split_string[1]> 1000: #for \"1976-77\"\n",
    "            new_string = round((split_string[0]+split_string[1])/2)\n",
    "        else:\n",
    "            new_string = 0\n",
    "    \n",
    "    elif \"–\" in some_string: #ascii 8211\n",
    "        split_string = some_string.split(\"–\")\n",
    "        split_string[0] = int(split_string[0])\n",
    "        split_string[1] = int(split_string[1])\n",
    "        if 3000>split_string[1] > 1000: #for \"1976-77\"\n",
    "            new_string = round((split_string[0]+split_string[1])/2)\n",
    "        else:\n",
    "            new_string = 0\n",
    "        \n",
    "    elif \";\" in some_string:\n",
    "        split_string = some_string.split(\";\")\n",
    "        split_string[0] = int(split_string[0])\n",
    "        split_string[1] = int(split_string[1])\n",
    "        if 3000> split_string[1] > 1000: #for \"1976-77\"\n",
    "            new_string = round((split_string[0]+split_string[1])/2)\n",
    "        else:\n",
    "            new_string = 0\n",
    "    elif some_string == \"\":\n",
    "        new_string =0\n",
    "    \n",
    "    return new_string"
   ]
  },
  {
   "cell_type": "markdown",
   "metadata": {},
   "source": [
    "#### Testing process_date with stripped_test_data"
   ]
  },
  {
   "cell_type": "code",
   "execution_count": null,
   "metadata": {},
   "outputs": [],
   "source": [
    "print('Current test data (before):')\n",
    "print(stripped_test_data)\n",
    "\n",
    "processed_test_data=[]\n",
    "\n",
    "for ele in stripped_test_data:\n",
    "    date = process_date(ele)\n",
    "    processed_test_data.append(date)\n",
    "\n",
    "print('\\nNew test data (after):')\n",
    "print(processed_test_data)"
   ]
  },
  {
   "cell_type": "markdown",
   "metadata": {},
   "source": [
    "[Back to Top](#Top)\n",
    "\n",
    "[Back to Process data from the Date column](#date)\n",
    "### Execute on actual Moma data for:\n",
    "\n",
    "BeginDate and EndDate column (index 5 & 6)\n",
    "- process_begin_end_date function.\n",
    "\n",
    "Date column (index 8)\n",
    "- strip_characters function.\n",
    "- process_date function.\n",
    "\n",
    "The resulted data on these column are integer or list of integers."
   ]
  },
  {
   "cell_type": "code",
   "execution_count": null,
   "metadata": {},
   "outputs": [],
   "source": [
    "cnt=0\n",
    "for row in moma:\n",
    "    cnt+=1\n",
    "    line=cnt\n",
    "    title = row[0]\n",
    "    obj_id = row[17]\n",
    "    \n",
    "    begin_date = process_begin_end_date(row[5])\n",
    "#     print(row[5])\n",
    "    row[5] = begin_date\n",
    "    \n",
    "    end_date = process_begin_end_date(row[6])\n",
    "    row[6] = end_date\n",
    "    \n",
    "    date = strip_characters(row[8])\n",
    "    date = process_date(date)\n",
    "    if date > 2020:\n",
    "        print('WHAT!!! Title=',title)\n",
    "        print('line:',line,'object_id:', obj_id, 'date:',date)\n",
    "    \n",
    "    row[8] = date"
   ]
  },
  {
   "cell_type": "markdown",
   "metadata": {},
   "source": [
    "Print out some sample data"
   ]
  },
  {
   "cell_type": "code",
   "execution_count": null,
   "metadata": {},
   "outputs": [],
   "source": [
    "for row in moma[0:10]:\n",
    "    print(row[0],row[5], row[6], row[8])"
   ]
  },
  {
   "cell_type": "markdown",
   "metadata": {},
   "source": [
    "[Back to Top](#Top)\n",
    "\n",
    "[Back to Process data from Begin/EndDate column](#begin_end_date)\n",
    "\n",
    "<a id='age'></a>\n",
    "\n",
    "## Calculate the age where the artist create the art\n",
    "- Age = Date - BeginDate.\n",
    "- BeginDate is a list (of 'int') becuase there are potentially multiple artists.\n"
   ]
  },
  {
   "cell_type": "code",
   "execution_count": null,
   "metadata": {},
   "outputs": [],
   "source": [
    "ages=[]\n",
    "age =[]\n",
    "\n",
    "for row in moma:\n",
    "    title = row[0] \n",
    "    date  = row[8] #Date \n",
    "    birth = row[5] #BeginDate\n",
    "    age=[]\n",
    "    \n",
    "    if date!=0:\n",
    "#         print('date=', date)\n",
    "#         print('birth=', birth)\n",
    "        for ele in birth:\n",
    "            if ele !=0: \n",
    "                ele=date-ele\n",
    "                #print(ele)\n",
    "            else:\n",
    "                ele=0\n",
    "            age.append(ele)\n",
    "            #print(age)\n",
    "    \n",
    "    ages.append(age)\n",
    "\n",
    "# print('ages list=',ages)\n"
   ]
  },
  {
   "cell_type": "markdown",
   "metadata": {},
   "source": [
    "[Back to Top](#Top)"
   ]
  }
 ],
 "metadata": {
  "kernelspec": {
   "display_name": "Python 3",
   "language": "python",
   "name": "python3"
  },
  "language_info": {
   "codemirror_mode": {
    "name": "ipython",
    "version": 3
   },
   "file_extension": ".py",
   "mimetype": "text/x-python",
   "name": "python",
   "nbconvert_exporter": "python",
   "pygments_lexer": "ipython3",
   "version": "3.7.4"
  }
 },
 "nbformat": 4,
 "nbformat_minor": 2
}
