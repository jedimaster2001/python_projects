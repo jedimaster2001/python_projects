{
 "cells": [
  {
   "cell_type": "markdown",
   "metadata": {},
   "source": [
    "<a id='Top'></a>\n",
    "# Working with Dates and Times in Python"
   ]
  },
  {
   "cell_type": "markdown",
   "metadata": {},
   "source": [
    "## Introduction\n",
    "\n",
    "****Assignment is from dataquest.io at*\n",
    "https://app.dataquest.io/m/353/working-with-dates-and-times-in-python/1/introduction\n",
    "\n",
    "Many data include date/time information, including:\n",
    "- Weather data with dates and/or times.\n",
    "- Computer logs with the timestamp for each event.\n",
    "- Sales data with date/time range included.\n"
   ]
  },
  {
   "cell_type": "markdown",
   "metadata": {},
   "source": [
    "### Dataset\n",
    "\n",
    "In December 2009, the White House started publishing records of visitors to the White House. Over a seven-year span, almost six million visitor records were published. The records contain data from the WAVES (Workers and Visitors Entry System) appointment system that is used to make appointments for all White House visitors, excluding staff members and other people not categorized as visitors.\n",
    "\n",
    "The full set of records can be found on the Obama White House Archives Site, but in this mission we'll be working with a smaller version of the dataset, *potus_visitors_2015.csv*, which only includes visitors who met with the president in 2015.\n",
    "\n",
    "**Here are descriptions of each column:**\n",
    "\n",
    "- name: The name of the visitor.\n",
    "- appt_made_date: The date and time that the appointment was created.\n",
    "- appt_start_date: The date and time that the appointment was scheduled to start.\n",
    "- appt_end_date: The date and time that the appointment was scheduled to end.\n",
    "- visitee_namelast: The last name of the visitee (the person the visitor was meeting with).\n",
    "- visitee_namefirst: The first name of the visitee.\n",
    "- meeting_room: The room in which the appointment was scheduled.\n",
    "- description: Optional comments added by the WAVES operator."
   ]
  },
  {
   "cell_type": "markdown",
   "metadata": {},
   "source": [
    "### In this exercise, I will used Python's 'datetime' method to do the following:\n",
    "- Calculate the month with the most visitors.\n",
    "- Calculate the most common time that visits occurred.\n",
    "- Calculate summary statistics on visit length and how far ahead visits are booked.\n",
    "- Produce neatly formatted summaries of daily visits."
   ]
  },
  {
   "cell_type": "code",
   "execution_count": 1,
   "metadata": {},
   "outputs": [
    {
     "name": "stdout",
     "output_type": "stream",
     "text": [
      "Header:\n",
      "['name', 'appt_made_date', 'appt_start_date', 'appt_end_date', 'visitee_namelast', 'visitee_namefirst', 'meeting_room', 'description']\n"
     ]
    }
   ],
   "source": [
    "from csv import reader\n",
    "\n",
    "open_file = open('/Users/spare/Downloads/projects_python/potus_visitors_2015.csv')\n",
    "potus_file = reader(open_file)\n",
    "potus = list(potus_file)\n",
    "\n",
    "#Print out header of the file\n",
    "print('Header:')\n",
    "print(potus[0])\n",
    "\n",
    "#Remove the first row\n",
    "potus = potus[1:]"
   ]
  },
  {
   "cell_type": "markdown",
   "metadata": {},
   "source": [
    "### Format appt_start_date\n",
    "**Using datetime.strptime()**"
   ]
  },
  {
   "cell_type": "code",
   "execution_count": 2,
   "metadata": {},
   "outputs": [
    {
     "name": "stdout",
     "output_type": "stream",
     "text": [
      "start_date BEFORE: 1/6/15 9:30\n",
      "start_date AFTER: 2015-01-06 09:30:00\n",
      "\n",
      "\n",
      "start_date BEFORE: 1/6/15 9:30\n",
      "start_date AFTER: 2015-01-06 09:30:00\n",
      "\n",
      "\n",
      "start_date BEFORE: 1/6/15 9:30\n",
      "start_date AFTER: 2015-01-06 09:30:00\n",
      "\n",
      "\n",
      "start_date BEFORE: 1/6/15 9:30\n",
      "start_date AFTER: 2015-01-06 09:30:00\n",
      "\n",
      "\n",
      "start_date BEFORE: 1/6/15 9:30\n",
      "start_date AFTER: 2015-01-06 09:30:00\n",
      "\n",
      "\n"
     ]
    }
   ],
   "source": [
    "import datetime as dt\n",
    "\n",
    "start_date_before=[] #list keeps track of original appt_start_date\n",
    "start_date_after =[] #list keeps track of appt_start_date in new format\n",
    "\n",
    "date_format = \"%m/%d/%y %H:%M\"\n",
    "\n",
    "for row in potus:\n",
    "    start_date = row[2]\n",
    "    start_date_before.append(start_date)\n",
    "#     print('start_date BEFORE:', start_date)\n",
    "    start_date = dt.datetime.strptime(start_date, date_format)\n",
    "#     print('start_date AFTER:', start_date)\n",
    "    row[2] = start_date\n",
    "    start_date_after.append(start_date)\n",
    "    \n",
    "#print out couple example of the appt_start_date before and after being formatted \n",
    "for i in range(0,5):\n",
    "    print('start_date BEFORE:', start_date_before[i])\n",
    "    print('start_date AFTER:',  start_date_after[i])\n",
    "    print('\\n')\n"
   ]
  },
  {
   "cell_type": "markdown",
   "metadata": {},
   "source": [
    "[Back to Top](#Top)\n",
    "### Create dictionary of visitors per month\n",
    "**Using datetime.strftime()**"
   ]
  },
  {
   "cell_type": "code",
   "execution_count": 3,
   "metadata": {},
   "outputs": [
    {
     "name": "stdout",
     "output_type": "stream",
     "text": [
      "{'January, 2015': 1248, 'February, 2015': 2165, 'March, 2015': 2262, 'April, 2015': 4996, 'May, 2015': 3013, 'June, 2015': 7743, 'July, 2015': 2930, 'August, 2015': 1350, 'September, 2015': 4416, 'October, 2015': 3669, 'November, 2015': 1133, 'December, 2015': 13029}\n"
     ]
    }
   ],
   "source": [
    "visitors_per_month = {}\n",
    "\n",
    "date_format = \"%B, %Y\"\n",
    "\n",
    "for row in potus:\n",
    "    start_date = row[2]\n",
    "    start_date = dt.datetime.strftime(start_date, date_format)\n",
    "    if start_date in visitors_per_month:\n",
    "        visitors_per_month[start_date] +=1\n",
    "    else:\n",
    "        visitors_per_month[start_date]=1\n",
    "\n",
    "print(visitors_per_month)"
   ]
  },
  {
   "cell_type": "markdown",
   "metadata": {},
   "source": [
    "[Back to Top](#Top)\n",
    "### Create a list of start time\n",
    "- Also, calculate the "
   ]
  },
  {
   "cell_type": "code",
   "execution_count": 4,
   "metadata": {},
   "outputs": [
    {
     "name": "stdout",
     "output_type": "stream",
     "text": [
      "Print out couple first elements in the list:\n",
      "[datetime.time(9, 30), datetime.time(9, 30), datetime.time(9, 30), datetime.time(9, 30), datetime.time(9, 30), datetime.time(9, 30), datetime.time(9, 30), datetime.time(9, 30), datetime.time(9, 30), datetime.time(9, 30), datetime.time(9, 30), datetime.time(9, 30), datetime.time(9, 30), datetime.time(9, 30), datetime.time(9, 30), datetime.time(9, 30), datetime.time(9, 30), datetime.time(9, 30), datetime.time(9, 30), datetime.time(9, 30)]\n",
      "\n",
      "Earliest visit: 06:00:00\n",
      "Lastest visit: 21:30:00\n"
     ]
    }
   ],
   "source": [
    "appt_times=[]\n",
    "start_time =0\n",
    "\n",
    "for row in potus:\n",
    "    start_date = row[2]\n",
    "    \n",
    "    if isinstance(start_date,(str)): #parsing the value in row[2], appt_start_date\n",
    "        start_date = dt.datetime.strptime(start_date, \"%m/%d/%y %H:%M\")\n",
    "        \n",
    "    start_time = dt.datetime.time(start_date) #only take the time value of the string\n",
    "    row[2]=start_date\n",
    "        \n",
    "    appt_times.append(start_time)\n",
    "\n",
    "# print(appt_times)\n",
    "print('Print out couple first elements in the list:')\n",
    "print(appt_times[0:20])\n",
    "\n",
    "min_time = min(appt_times)\n",
    "max_time = max(appt_times)\n",
    "print('\\nEarliest visit:',min_time)\n",
    "print('Lastest visit:', max_time)\n",
    "\n"
   ]
  },
  {
   "cell_type": "markdown",
   "metadata": {},
   "source": [
    "[Back to Top](#Top)\n",
    "### Calculate the longest visit\n",
    "- The duration of a visit is determind by end_date - start_date"
   ]
  },
  {
   "cell_type": "code",
   "execution_count": 5,
   "metadata": {},
   "outputs": [
    {
     "name": "stdout",
     "output_type": "stream",
     "text": [
      "Shortest visit: 2:29:00\n",
      "Longest visit: 16 days, 12:59:00\n"
     ]
    }
   ],
   "source": [
    "appt_lengths={}\n",
    "\n",
    "for row in potus:\n",
    "    start_date = row[2]\n",
    "    end_date = row[3]\n",
    "\n",
    "    if isinstance(end_date,(str)):\n",
    "        end_date = dt.datetime.strptime(end_date, \"%m/%d/%y %H:%M\")\n",
    "        row[3] = end_date\n",
    "    \n",
    "    if isinstance(start_date,(str)):\n",
    "        start_date = dt.datetime.strptime(start_date, \"%m/%d/%y %H:%M\")\n",
    "        row[2]=start_date\n",
    "#     DEBUG\n",
    "#     print(type(end_date))\n",
    "#     print(type(start_date))\n",
    "#     print(row[0])\n",
    "#     print('\\n')\n",
    "    length = end_date - start_date\n",
    "    \n",
    "    if length not in appt_lengths:\n",
    "        appt_lengths[length] = 1\n",
    "    else: \n",
    "        appt_lengths[length] +=1\n",
    "\n",
    "# print('Print out couple elements of appt_length list:')\n",
    "# print(appt_lengths)\n",
    "\n",
    "min_length=min(appt_lengths)\n",
    "max_length=max(appt_lengths)\n",
    "print('Shortest visit:', min_length)\n",
    "print('Longest visit:', max_length)\n",
    "\n",
    "# print (appt_lengths)"
   ]
  }
 ],
 "metadata": {
  "kernelspec": {
   "display_name": "Python 3",
   "language": "python",
   "name": "python3"
  },
  "language_info": {
   "codemirror_mode": {
    "name": "ipython",
    "version": 3
   },
   "file_extension": ".py",
   "mimetype": "text/x-python",
   "name": "python",
   "nbconvert_exporter": "python",
   "pygments_lexer": "ipython3",
   "version": "3.7.4"
  }
 },
 "nbformat": 4,
 "nbformat_minor": 2
}
