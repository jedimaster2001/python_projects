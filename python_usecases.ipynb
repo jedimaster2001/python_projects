{
 "cells": [
  {
   "cell_type": "markdown",
   "metadata": {},
   "source": [
    "<a id='Top'></a>\n",
    "# Python common use cases \n",
    "The purpose of this is to demonstrate different use cases when I first learn python. \n",
    "- This is served as a reference to review Python syntax for a future job interview maybe. \n",
    "\n",
    "[**FILES_FOLDERS**](#FILES_FOLDERS) \n",
    "\n",
    "[**STRING**](#STRING)\n",
    "[**FUNCTION**](#FUNCTION)\n",
    "[**LIST**](#LIST)\n",
    "\n",
    "[**CLASS**](#CLASS)\n",
    "[**MODULE**](#MODULE)\n",
    "[**MISC.**](#MISC.)\n",
    "\n",
    "[**NumPy**](#NumPy)  [**Pandas**](#Pandas)\n",
    "\n",
    "[**RegEx**](#RegEx)\n"
   ]
  },
  {
   "cell_type": "markdown",
   "metadata": {},
   "source": [
    "**USEFUL LINK**\n",
    "- Creating internal link\n",
    "https://nbviewer.jupyter.org/github/rasbt/python_reference/blob/master/tutorials/table_of_contents_ipython.ipynb#top"
   ]
  },
  {
   "cell_type": "markdown",
   "metadata": {},
   "source": [
    "## FILES_FOLDERS\n",
    "[Back to Top](#Top)"
   ]
  },
  {
   "cell_type": "code",
   "execution_count": 1,
   "metadata": {},
   "outputs": [
    {
     "name": "stdout",
     "output_type": "stream",
     "text": [
      "/Users/spare\n",
      "This is a README file for Python projects\n",
      "\n",
      "Testing\n",
      "Testing\n",
      "Testing\n"
     ]
    }
   ],
   "source": [
    "import os\n",
    "print(os.getcwd())\n",
    "\n",
    "file = open('README.md','w') #override the old content\n",
    "file.write('This is a README file for Python projects')\n",
    "file.close()\n",
    "\n",
    "file = open('README.md','a') #append instead of override\n",
    "file.write('\\n\\nTesting\\nTesting\\nTesting')\n",
    "file.close()\n",
    "\n",
    "file = open('README.md','r')\n",
    "print(file.read())\n",
    "file.close()\n"
   ]
  },
  {
   "cell_type": "code",
   "execution_count": 2,
   "metadata": {},
   "outputs": [
    {
     "data": {
      "text/plain": [
       "ValuesView(<shelve.DbfilenameShelf object at 0x105f0de90>)"
      ]
     },
     "execution_count": 2,
     "metadata": {},
     "output_type": "execute_result"
    }
   ],
   "source": [
    "import shelve \n",
    "\n",
    "shelf_file = shelve.open('mydata')\n",
    "shelf_file['name'] = ['tom', 'nacy', 'mary']\n",
    "shelf_file.close()\n",
    "\n",
    "shelf_file = shelve.open('mydata')\n",
    "shelf_file['name']\n",
    "shelf_file.keys()\n",
    "shelf_file.values()\n",
    "# shelf_file.close()"
   ]
  },
  {
   "cell_type": "code",
   "execution_count": 3,
   "metadata": {},
   "outputs": [
    {
     "name": "stdout",
     "output_type": "stream",
     "text": [
      "<_csv.reader object at 0x105f1bbd0>\n"
     ]
    }
   ],
   "source": [
    "open_file = open('/Users/spare/Downloads/projects_python/f500.csv')\n",
    "\n",
    "from csv import reader\n",
    "moma_file = reader(open_file)\n",
    "print(moma_file)\n",
    "moma = list(moma_file)"
   ]
  },
  {
   "cell_type": "markdown",
   "metadata": {},
   "source": [
    "### import os"
   ]
  },
  {
   "cell_type": "code",
   "execution_count": 4,
   "metadata": {},
   "outputs": [
    {
     "name": "stdout",
     "output_type": "stream",
     "text": [
      "/Users/spare\n",
      "/Users/spare/Downloads\n",
      "/\n"
     ]
    },
    {
     "data": {
      "text/plain": [
       "['Basics.ipynb',\n",
       " '.DS_Store',\n",
       " 'AppleStore.csv',\n",
       " 'googleplaystore_user_reviews.csv',\n",
       " 'googleplaystore.csv',\n",
       " 'HN_posts_year_to_Sep_26_2016.csv',\n",
       " 'hacker_news.csv',\n",
       " 'appleStore_description.csv',\n",
       " 'f500.csv',\n",
       " 'Artworks.csv',\n",
       " '.ipynb_checkpoints',\n",
       " 'potus_visitors_2015.csv',\n",
       " 'nyc_taxis.csv']"
      ]
     },
     "execution_count": 4,
     "metadata": {},
     "output_type": "execute_result"
    }
   ],
   "source": [
    "import os\n",
    "\n",
    "#current working directory is /Users/spare\n",
    "print(os.getcwd()) #Current Working Directory\n",
    "os.chdir(r'/Users/spare/Downloads') #Change Directory\n",
    "print(os.getcwd())\n",
    "\n",
    "print(os.sep) #root directory\n",
    "\n",
    "os.path.abspath(r'5bx-plan.pdf') #regardless the file really exist or not\n",
    "os.path.abspath(r'../5bx-plan.pdf')\n",
    "os.path.exists(r'5bx-plan.pdf')\n",
    "os.path.getsize(r'monk_manual_daily_sneakpeak.pdf')\n",
    "os.listdir(r'/Users/spare/Downloads/projects_python')\n"
   ]
  },
  {
   "cell_type": "markdown",
   "metadata": {},
   "source": [
    "## STRING\n",
    "[Back to Top](#Top)\n",
    "\n",
    "https://docs.python.org/3/library/stdtypes.html#string-methods\n",
    "\n"
   ]
  },
  {
   "cell_type": "code",
   "execution_count": 5,
   "metadata": {},
   "outputs": [
    {
     "name": "stdout",
     "output_type": "stream",
     "text": [
      "w\n",
      "w\n",
      "wh\n",
      "e\n",
      "m\n",
      "what is your name?\n"
     ]
    }
   ],
   "source": [
    "#String index\n",
    "string = \"what is your name\"\n",
    "print(string[0])\n",
    "print(string[0:1])\n",
    "print(string[0:2])\n",
    "print(string[-1])\n",
    "print(string[-2:-1])\n",
    "\n",
    "string = string+\"?\"\n",
    "print(string)"
   ]
  },
  {
   "cell_type": "code",
   "execution_count": 6,
   "metadata": {},
   "outputs": [
    {
     "name": "stdout",
     "output_type": "stream",
     "text": [
      "c:\\downloads\n",
      "OR:\n",
      "c:\\downloads\n"
     ]
    }
   ],
   "source": [
    "# 'Raw' string\n",
    "print('c:\\\\downloads') #escape\n",
    "print('OR:')\n",
    "print(r'c:\\downloads') #r = raw"
   ]
  },
  {
   "cell_type": "code",
   "execution_count": 7,
   "metadata": {},
   "outputs": [
    {
     "data": {
      "text/plain": [
       "'folder1/folder2'"
      ]
     },
     "execution_count": 7,
     "metadata": {},
     "output_type": "execute_result"
    }
   ],
   "source": [
    "import os\n",
    " \n",
    "os.path.join('folder1','folder2')"
   ]
  },
  {
   "cell_type": "code",
   "execution_count": 8,
   "metadata": {},
   "outputs": [
    {
     "name": "stdout",
     "output_type": "stream",
     "text": [
      "False\n",
      "True\n"
     ]
    }
   ],
   "source": [
    "print('dataquest'.startswith('Data'))\n",
    "print('dataquest'.startswith('data'))"
   ]
  },
  {
   "cell_type": "markdown",
   "metadata": {},
   "source": [
    "### String.format()"
   ]
  },
  {
   "cell_type": "code",
   "execution_count": 9,
   "metadata": {},
   "outputs": [
    {
     "name": "stdout",
     "output_type": "stream",
     "text": [
      "Kylie's favorite number is 8\n",
      "Kylie's favorite number is 8, 8 is Kylie's favorite number\n",
      "Kylie's favorite number is 8, 8 is Kylie's favorite number\n",
      "I own 32.554865% of the company\n"
     ]
    }
   ],
   "source": [
    "#.format()\n",
    "# {} - template\n",
    "\n",
    "output = \"{}'s favorite number is {}\".format(\"Kylie\", 8)\n",
    "print(output)\n",
    "\n",
    "output = \"{0}'s favorite number is {1}, {1} is {0}'s favorite number\".format(\"Kylie\", 8)\n",
    "print(output)\n",
    "\n",
    "template = \"{name}'s favorite number is {num}, {num} is {name}'s favorite number\"\n",
    "output = template.format(name=\"Kylie\", num=\"8\")\n",
    "print(output)\n",
    "\n",
    "\n",
    "num = 32.554865\n",
    "print(\"I own {pct}% of the company\".format(pct=num))"
   ]
  },
  {
   "cell_type": "markdown",
   "metadata": {},
   "source": [
    "**Template & format**"
   ]
  },
  {
   "cell_type": "code",
   "execution_count": 10,
   "metadata": {},
   "outputs": [
    {
     "name": "stdout",
     "output_type": "stream",
     "text": [
      "The approximate population of India is 1324000000\n",
      "The approximate population of India is 1,324,000,000\n",
      "The approximate population of India is 1324000000.00\n",
      "The approximate population of India is 1,324,000,000.00\n"
     ]
    }
   ],
   "source": [
    "#precision\n",
    "template = \"The approximate population of {0} is {1}\"\n",
    "out = template.format(\"India\",1324000000)\n",
    "print(out)\n",
    "\n",
    "#Note: \n",
    "# : indicates start of format spec\n",
    "template = \"The approximate population of {0} is {1:,}\"\n",
    "out = template.format(\"India\",1324000000) #***Have to define 'out' again when changing 'template'\n",
    "print(out)\n",
    "\n",
    "template = \"The approximate population of {0} is {1:.2f}\"\n",
    "print(template.format(\"India\",1324000000))\n",
    "\n",
    "template = \"The approximate population of {0} is {1:,.2f}\"\n",
    "#***don't use {1:.2f,}\n",
    "print(template.format(\"India\",1324000000))"
   ]
  },
  {
   "cell_type": "code",
   "execution_count": 11,
   "metadata": {},
   "outputs": [
    {
     "name": "stdout",
     "output_type": "stream",
     "text": [
      "I am thirty-one years YOUNG.\n",
      "I am thirty-TWO years YOUNG.\n",
      "You---are\n"
     ]
    }
   ],
   "source": [
    "#string.replace()\n",
    "age1 = \"I am thirty-one years old.\"\n",
    "age1 = \"I am thirty-one years old.\"\n",
    "age3 = \"You   are\"\n",
    "\n",
    "age1=age1.replace('old', 'YOUNG')\n",
    "age2=age1.replace('one', 'TWO')\n",
    "age3=age3.replace(' ','-')\n",
    "print(age1)\n",
    "print(age2)\n",
    "print(age3)"
   ]
  },
  {
   "cell_type": "markdown",
   "metadata": {},
   "source": [
    "**string.title() & string.lower()**\n",
    "- Method returns a copy of the string with the first letter of each word transformed to uppercase (also known as title case)."
   ]
  },
  {
   "cell_type": "code",
   "execution_count": 12,
   "metadata": {},
   "outputs": [
    {
     "name": "stdout",
     "output_type": "stream",
     "text": [
      "The cool thing about this string is that it has a CoMbInAtIoN of UPPERCASE and lowercase letters!\n",
      "The cool thing about this string is that it has a CoMbInAtIoN of UPPERCASE and lowercase letters!\n",
      "The Cool Thing About This String Is That It Has A Combination Of Uppercase And Lowercase Letters!\n",
      "the cool thing about this string is that it has a combination of uppercase and lowercase letters!\n"
     ]
    }
   ],
   "source": [
    "my_string = \"The cool thing about this string is that it has a CoMbInAtIoN of UPPERCASE and lowercase letters!\"\n",
    "print(my_string)\n",
    "\n",
    "my_string.title()\n",
    "print(my_string) \n",
    "my_string_title = my_string.title()\n",
    "print(my_string_title)\n",
    "my_string_title = my_string.lower()\n",
    "print(my_string_title)"
   ]
  },
  {
   "cell_type": "markdown",
   "metadata": {},
   "source": [
    "### Sub-string"
   ]
  },
  {
   "cell_type": "code",
   "execution_count": 13,
   "metadata": {},
   "outputs": [
    {
     "name": "stdout",
     "output_type": "stream",
     "text": [
      "The substring was not found.\n"
     ]
    }
   ],
   "source": [
    "if \"mike\" in \"michael\":\n",
    "    print(\"The substring was found.\")\n",
    "else:\n",
    "    print(\"The substring was not found.\")"
   ]
  },
  {
   "cell_type": "markdown",
   "metadata": {},
   "source": [
    "**Split string.**\n",
    "- string.split() means \"throw away\" and \"separate\", except for \" \"."
   ]
  },
  {
   "cell_type": "code",
   "execution_count": 14,
   "metadata": {},
   "outputs": [
    {
     "name": "stdout",
     "output_type": "stream",
     "text": [
      "str_1 1991---1993\n",
      "str_1a ['1991', '', '', '1993']\n",
      "\n",
      "str_2= 2001   2002\n",
      "str_2a= ['2001', '', '', '2002']\n",
      "str_2a_new= [2001, 2002] \n",
      "\n",
      "date_string= 12/18/15 16:30\n",
      "12/18/15\n",
      "16:30\n",
      "12 , 18 , 15\n",
      "16 , 30\n"
     ]
    }
   ],
   "source": [
    "str_1  = \"1991---1993\"\n",
    "str_1a = str_1.split(\"-\")\n",
    "print(\"str_1\", str_1)\n",
    "print(\"str_1a\", str_1a)\n",
    "\n",
    "\n",
    "str_2  = \"2001   2002\"\n",
    "str_2a = str_2.split(\" \")\n",
    "print(\"\\nstr_2=\",str_2)\n",
    "print(\"str_2a=\",str_2a)\n",
    "\n",
    "str_2a_new=[]\n",
    "for index in str_2a:\n",
    "    if index != \"\":\n",
    "        #print(index)\n",
    "        str_2a_new.append(int(index)) #don't use str_2a_new=...\n",
    "\n",
    "print(\"str_2a_new=\",str_2a_new,'\\n')\n",
    "\n",
    "date_string = '12/18/15 16:30'\n",
    "print('date_string=',date_string)\n",
    "date, time = date_string.split()\n",
    "print(date)\n",
    "print(time)\n",
    "mnth, day, year = date.split('/')\n",
    "print(mnth,',',day,',',year)\n",
    "hr,mn = time.split(':')\n",
    "print(hr,',',mn)\n",
    "\n"
   ]
  },
  {
   "cell_type": "code",
   "execution_count": 15,
   "metadata": {},
   "outputs": [
    {
     "name": "stdout",
     "output_type": "stream",
     "text": [
      "Unknown\n",
      "n.d.\n",
      "bingo!!!\n",
      "\n",
      "before\n",
      "Early 1950\n",
      "early 1950\n",
      "early 1950\n"
     ]
    }
   ],
   "source": [
    "bad_string = [\"Unknown\", \"n.d.\", \"before\"]\n",
    "string = \"n.d.\"\n",
    "\n",
    "for ele in bad_string:\n",
    "    print(ele)\n",
    "#     print(type(ele))\n",
    "    if ele in string:\n",
    "        print(\"bingo!!!\\n\")\n",
    "\n",
    "st1 = \"Early 1950\"\n",
    "print(st1)\n",
    "st2 = st1.lower()\n",
    "st1 = st1.lower()\n",
    "print(st2)\n",
    "print(st1)\n"
   ]
  },
  {
   "cell_type": "markdown",
   "metadata": {},
   "source": [
    "[Back to STRING](#STRING)\n",
    "\n"
   ]
  },
  {
   "cell_type": "markdown",
   "metadata": {},
   "source": [
    "## FUNCTION\n",
    "[Back to Top](#Top)\n",
    "\n"
   ]
  },
  {
   "cell_type": "code",
   "execution_count": 16,
   "metadata": {},
   "outputs": [
    {
     "name": "stdout",
     "output_type": "stream",
     "text": [
      "result= 6\n",
      "result= 6\n"
     ]
    }
   ],
   "source": [
    "def some_func (in_var):\n",
    "    local = in_var +1\n",
    "    return local\n",
    "\n",
    "result=some_func(5)\n",
    "print('result=',some_func(5))\n",
    "print('result=',result)\n"
   ]
  },
  {
   "cell_type": "markdown",
   "metadata": {},
   "source": [
    "## LIST\n",
    "[Back to Top](#Top)\n"
   ]
  },
  {
   "cell_type": "code",
   "execution_count": 17,
   "metadata": {},
   "outputs": [
    {
     "name": "stdout",
     "output_type": "stream",
     "text": [
      "Originally, a= [1, 2]\n",
      "[1, 2, 3]\n",
      "[1, 3]\n",
      "3\n",
      "[1]\n",
      "[1, 10]\n",
      "2\n"
     ]
    }
   ],
   "source": [
    "#append\n",
    "a = [1,2]\n",
    "print('Originally, a=',a)\n",
    "a.append(3) # don't use a=a.append()\n",
    "print(a)\n",
    "\n",
    "#pop\n",
    "a.pop(1)\n",
    "print(a)\n",
    "print(a.pop())\n",
    "print(a)\n",
    "\n",
    "#add 2 lists\n",
    "b = [10]\n",
    "new_a = a + b\n",
    "print (new_a)\n",
    "print(len(new_a))"
   ]
  },
  {
   "cell_type": "markdown",
   "metadata": {},
   "source": [
    "## CLASS\n",
    "[Back to Top](#Top)\n"
   ]
  },
  {
   "cell_type": "code",
   "execution_count": 18,
   "metadata": {},
   "outputs": [
    {
     "name": "stdout",
     "output_type": "stream",
     "text": [
      "<__main__.NewList object at 0x10601eb90>\n",
      "[1, 2, 3]\n"
     ]
    }
   ],
   "source": [
    "class NewList():\n",
    "    def return_list(self, input_list):\n",
    "        return input_list\n",
    "\n",
    "newlist = NewList()\n",
    "result = newlist.return_list([1, 2, 3])\n",
    "\n",
    "print(newlist)\n",
    "print(result)\n",
    "\n",
    "#CAN'T do this\n",
    "#print(newlist([4,5,6]))\n",
    "\n",
    "    "
   ]
  },
  {
   "cell_type": "code",
   "execution_count": 19,
   "metadata": {},
   "outputs": [
    {
     "name": "stdout",
     "output_type": "stream",
     "text": [
      "Hola!\n"
     ]
    }
   ],
   "source": [
    "class MyClass():\n",
    "    def __init__(self, string):\n",
    "        print(string)\n",
    "\n",
    "mc = MyClass(\"Hola!\")"
   ]
  },
  {
   "cell_type": "code",
   "execution_count": 20,
   "metadata": {},
   "outputs": [
    {
     "name": "stdout",
     "output_type": "stream",
     "text": [
      "<__main__.MyClass object at 0x105ffff50>\n",
      "Hola!\n"
     ]
    }
   ],
   "source": [
    "class MyClass():\n",
    "    def __init__(self, string):\n",
    "        self.my_attribute = string\n",
    "\n",
    "mc = MyClass(\"Hola!\")\n",
    "print(mc)\n",
    "print(mc.my_attribute)\n"
   ]
  },
  {
   "cell_type": "code",
   "execution_count": 21,
   "metadata": {},
   "outputs": [
    {
     "name": "stdout",
     "output_type": "stream",
     "text": [
      "<__main__.NewList object at 0x106030610>\n",
      "[1, 2, 3, 4, 5]\n"
     ]
    }
   ],
   "source": [
    "class NewList():\n",
    "    def __init__(self, initial_state):\n",
    "        self.data   = initial_state\n",
    "\n",
    "my_list = NewList([1,2,3,4,5]) #initialize\n",
    "print(my_list)\n",
    "print(my_list.data)"
   ]
  },
  {
   "cell_type": "code",
   "execution_count": 22,
   "metadata": {},
   "outputs": [
    {
     "name": "stdout",
     "output_type": "stream",
     "text": [
      "<__main__.NewList object at 0x106015550>\n",
      "[1, 2, 3, 4, 5] 5\n",
      "<__main__.NewList object at 0x106015550>\n",
      "[1, 2, 3, 4, 5, 6] 6\n",
      "\n",
      "\n",
      "[1, 1, 2, 3, 5] 5\n",
      "[1, 1, 2, 3, 5, 8] 6\n",
      "\n",
      "\n",
      "None\n",
      "6\n"
     ]
    }
   ],
   "source": [
    "class NewList():\n",
    "    def __init__(self, initial_state):\n",
    "        self.data   = initial_state\n",
    "        self.length = len(initial_state)\n",
    "    \n",
    "    def append(self, num):\n",
    "        self.data += [num]\n",
    "        \n",
    "        #!!!It makes sense when you append and then calc_length() right away \n",
    "        # so self.length can be updated right away.\n",
    "        self.calc_length() \n",
    "    \n",
    "    def calc_length(self):\n",
    "        self.length = len(self.data)\n",
    "        \n",
    "\n",
    "my_list = NewList([1, 2, 3, 4, 5]) #initialize\n",
    "print(my_list)\n",
    "print(my_list.data, my_list.length)\n",
    "\n",
    "my_list.append(6)\n",
    "print(my_list)\n",
    "print(my_list.data, my_list.length)\n",
    "\n",
    "print('\\n')\n",
    "\n",
    "fibonacci = NewList([1, 1, 2, 3, 5])\n",
    "print(fibonacci.data, fibonacci.length)\n",
    "fibonacci.append(8)\n",
    "print(fibonacci.data, fibonacci.length) \n",
    "print('\\n')\n",
    "print(fibonacci.calc_length()) #'None' because the calc_length doesn't return anything\n",
    "print(fibonacci.length)"
   ]
  },
  {
   "cell_type": "markdown",
   "metadata": {},
   "source": [
    "[Back to CLASS](#CLASS)"
   ]
  },
  {
   "cell_type": "markdown",
   "metadata": {},
   "source": [
    "# MODULE\n",
    "[Back to Top](#Top)"
   ]
  },
  {
   "cell_type": "code",
   "execution_count": 23,
   "metadata": {},
   "outputs": [],
   "source": [
    "# 1. Import the whole module by name. This is the most common method for importing a module.\n",
    "# import the module\n",
    "import csv\n",
    "\n",
    "# definitions are available using the format\n",
    "# module_name.definition_name\n",
    "#csv.reader()\n",
    "\n",
    "\n",
    "# 2. Import the whole module with an alias. This is especially useful if a module is long and we need to type it a lot.\n",
    "# import the module with an alias\n",
    "import csv as c\n",
    "\n",
    "# definitions are available using the format\n",
    "# alias.definition_name\n",
    "#c.reader()\n",
    "\n",
    "\n",
    "# 3. Import one or more definitions from the module by name. This is the technique we've used so far. This technique is useful if you want only a single or select definitions and don't want to import everything.\n",
    "# import a single definition\n",
    "from csv import reader\n",
    "\n",
    "# the definition you imported is available\n",
    "# by name\n",
    "#reader()\n",
    "\n",
    "# import multiple definitions\n",
    "from csv import reader, writer\n",
    "\n",
    "# the definitions you imported are available\n",
    "# using the format definition_name\n",
    "# reader()\n",
    "# writer()\n",
    "\n",
    "\n",
    "# 4. Import all definitions with a wildcard. This is useful if you want to import and use many definitions from a module.\n",
    "# import all definitions\n",
    "from csv import *\n",
    "\n",
    "# all definitions from the module are\n",
    "# available using the format definition_name\n",
    "# reader()\n",
    "# writer()\n",
    "# get_dialect()"
   ]
  },
  {
   "cell_type": "markdown",
   "metadata": {},
   "source": [
    "### datetime\n",
    "\n",
    "[Back to Top](#Top)"
   ]
  },
  {
   "cell_type": "code",
   "execution_count": 24,
   "metadata": {},
   "outputs": [
    {
     "name": "stdout",
     "output_type": "stream",
     "text": [
      "1911-06-16 00:00:00\n",
      "<class 'datetime.datetime'>\n",
      "1969-07-20 20:17:00\n",
      "<class 'datetime.datetime'>\n",
      "0001-01-01 00:00:00\n"
     ]
    }
   ],
   "source": [
    "import datetime as dt\n",
    "\n",
    "#datetime.datetime(year, month, day, hour=0, minute=0, second=0)\n",
    "ibm_founded = dt.datetime(1911, 6, 16)\n",
    "man_on_moon = dt.datetime(1969, 7, 20, 20, 17)\n",
    "print(ibm_founded)\n",
    "print(type(ibm_founded))\n",
    "\n",
    "print(man_on_moon)\n",
    "print(type(man_on_moon))\n",
    "\n",
    "test = dt.datetime(1, 1, 1)#year, month, day at least have to be 1\n",
    "print(test)\n"
   ]
  },
  {
   "cell_type": "markdown",
   "metadata": {},
   "source": [
    "#### dt.datetime.time()"
   ]
  },
  {
   "cell_type": "code",
   "execution_count": 25,
   "metadata": {},
   "outputs": [
    {
     "name": "stdout",
     "output_type": "stream",
     "text": [
      "1963-11-22 12:30:00\n",
      "<class 'datetime.datetime'>\n",
      "12:30:00\n",
      "<class 'datetime.time'>\n"
     ]
    }
   ],
   "source": [
    "jfk_shot_dt = dt.datetime(1963, 11, 22, 12, 30)\n",
    "print(jfk_shot_dt)\n",
    "print(type(jfk_shot_dt))\n",
    "\n",
    "jfk_shot_t = jfk_shot_dt.time()\n",
    "print(jfk_shot_t)\n",
    "print(type(jfk_shot_t))"
   ]
  },
  {
   "cell_type": "markdown",
   "metadata": {},
   "source": [
    "#### dt.datetime.strftime() >> str-f-time >> string format time"
   ]
  },
  {
   "cell_type": "code",
   "execution_count": 26,
   "metadata": {},
   "outputs": [
    {
     "name": "stdout",
     "output_type": "stream",
     "text": [
      "1984-12-24 00:00:00\n",
      "<class 'datetime.datetime'>\n",
      "\n",
      "\n",
      "24/12/1984\n",
      "<class 'str'>\n",
      "Monday December 24 at 12:00 AM\n",
      "<class 'str'>\n"
     ]
    }
   ],
   "source": [
    "dt_object = dt.datetime(1984, 12, 24)\n",
    "print(dt_object)\n",
    "print(type(dt_object))\n",
    "\n",
    "print('\\n')\n",
    "dt_string = dt_object.strftime(\"%d/%m/%Y\")\n",
    "print(dt_string)\n",
    "print(type(dt_string))\n",
    "\n",
    "dt_string = dt_object.strftime(\"%A %B %d at %I:%M %p\")\n",
    "print(dt_string)\n",
    "print(type(dt_string))"
   ]
  },
  {
   "cell_type": "markdown",
   "metadata": {},
   "source": [
    "#### dt.datetime.strptime() >> str-p-time >> string parse time"
   ]
  },
  {
   "cell_type": "code",
   "execution_count": 27,
   "metadata": {
    "scrolled": true
   },
   "outputs": [
    {
     "name": "stdout",
     "output_type": "stream",
     "text": [
      "24/12/1984\n",
      "1984-12-24 00:00:00\n",
      "<class 'datetime.datetime'>\n",
      "\n",
      "\n",
      "1900-01-01 08:00:00\n",
      "<class 'datetime.datetime'>\n",
      "1900-01-01\n",
      "<class 'datetime.date'>\n",
      "08:00:00\n",
      "<class 'datetime.time'>\n",
      "Break it down:\n",
      "1900\n",
      "1\n",
      "8\n",
      "0\n",
      "0\n",
      "<class 'int'>\n"
     ]
    }
   ],
   "source": [
    "date_1_str = \"24/12/1984\"\n",
    "print(date_1_str)\n",
    "date_1_dt = dt.datetime.strptime(date_1_str, \"%d/%m/%Y\") #reflects the format in string\n",
    "print(date_1_dt)\n",
    "print(type(date_1_dt))\n",
    "\n",
    "print('\\n')\n",
    "dt_str = \"1900-01-01 08:00:00\"\n",
    "dt_datetime = dt.datetime.strptime(dt_str, \"%Y-%m-%d %I:%M:%S\")\n",
    "print(dt_datetime)\n",
    "print(type(dt_datetime))\n",
    "\n",
    "print(dt_datetime.date())\n",
    "print(type(dt_datetime.date()))\n",
    "print(dt_datetime.time())\n",
    "print(type(dt_datetime.time()))\n",
    "\n",
    "print('Break it down:')\n",
    "print(dt_datetime.year)\n",
    "print(dt_datetime.month)\n",
    "print(dt_datetime.hour)\n",
    "print(dt_datetime.minute)\n",
    "print(dt_datetime.second)\n",
    "print(type(dt_datetime.second))"
   ]
  },
  {
   "cell_type": "markdown",
   "metadata": {},
   "source": [
    "#### dt.time()"
   ]
  },
  {
   "cell_type": "code",
   "execution_count": 28,
   "metadata": {},
   "outputs": [
    {
     "name": "stdout",
     "output_type": "stream",
     "text": [
      "14:30:00\n",
      "<class 'datetime.time'>\n",
      "08:00:05\n",
      "<class 'datetime.time'>\n",
      "\n",
      "Compare time:\n",
      "True\n",
      "<class 'datetime.time'>\n",
      "\n",
      "\n",
      "08:00:00\n",
      "23:30:00\n"
     ]
    }
   ],
   "source": [
    "#datetime.time(hour=0, minute=0, second=0, microsecond=0)\n",
    "\n",
    "two_thirty = dt.time(14, 30)\n",
    "print(two_thirty)\n",
    "print(type(two_thirty))\n",
    "\n",
    "five_sec_after_8am = dt.time(8,0,5)\n",
    "print(five_sec_after_8am)\n",
    "print(type(five_sec_after_8am))\n",
    "\n",
    "print(\"\\nCompare time:\")\n",
    "t1 = dt.time(15, 30)\n",
    "t2 = dt.time(10, 45)\n",
    "\n",
    "comparison = t1 > t2\n",
    "print(comparison)\n",
    "print(type(t1))\n",
    "\n",
    "print('\\n')\n",
    "times = [\n",
    "           dt.time(23, 30),\n",
    "           dt.time(14, 45),\n",
    "           dt.time(8, 0)\n",
    "        ]\n",
    "\n",
    "print(min(times))\n",
    "print(max(times))"
   ]
  },
  {
   "cell_type": "markdown",
   "metadata": {},
   "source": [
    "[Back to datetime](#datetime)"
   ]
  },
  {
   "cell_type": "markdown",
   "metadata": {},
   "source": [
    "### datetime.timedelta"
   ]
  },
  {
   "cell_type": "code",
   "execution_count": 29,
   "metadata": {},
   "outputs": [
    {
     "name": "stdout",
     "output_type": "stream",
     "text": [
      "-1244 days, 0:00:00\n",
      "<class 'datetime.timedelta'>\n",
      "\n",
      "\n",
      "1981-01-31 00:00:00\n",
      "\n",
      "\n",
      "0:00:45\n",
      "<class 'datetime.timedelta'>\n",
      "True\n"
     ]
    }
   ],
   "source": [
    "dt_1 = dt.datetime(1981, 1, 31)\n",
    "dt_2 = dt.datetime(1984, 6, 28)\n",
    "dt_3 = dt.datetime(2016, 5, 24)\n",
    "dt_4 = dt.datetime(2001, 1, 1, 8, 24, 13)\n",
    "\n",
    "#timedelta\n",
    "answer_1 = dt_1 - dt_2\n",
    "print(answer_1)\n",
    "print(type(answer_1))\n",
    "\n",
    "print('\\n')\n",
    "dt_list = [dt_1, dt_2, dt_3, dt_4]\n",
    "min_time = min(dt_list)\n",
    "print(min_time)\n",
    "\n",
    "print('\\n')\n",
    "#Can do max and min in dictionary\n",
    "length_counts = {\n",
    "                  dt.timedelta(minutes=15): 21,\n",
    "                  dt.timedelta(hours=3): 1,\n",
    "                  dt.timedelta(seconds=45): 15\n",
    "                }\n",
    "\n",
    "min_length = min(length_counts)\n",
    "print(min_length)\n",
    "print(type(min_length))\n",
    "print(isinstance(min_length, dt.timedelta))"
   ]
  },
  {
   "cell_type": "markdown",
   "metadata": {},
   "source": [
    "[Back to MODULE](#MODULE)\n",
    "[Back to datetime](#datetime)"
   ]
  },
  {
   "cell_type": "markdown",
   "metadata": {},
   "source": [
    "## MISC."
   ]
  },
  {
   "cell_type": "code",
   "execution_count": 30,
   "metadata": {},
   "outputs": [
    {
     "name": "stdout",
     "output_type": "stream",
     "text": [
      "True\n",
      "False\n"
     ]
    }
   ],
   "source": [
    "a=[1,2]\n",
    "print(isinstance(a,(list)))\n",
    "print(isinstance(a,(int)))"
   ]
  },
  {
   "cell_type": "code",
   "execution_count": 31,
   "metadata": {},
   "outputs": [
    {
     "name": "stdout",
     "output_type": "stream",
     "text": [
      "<class 'int'>\n",
      "<class 'str'>\n"
     ]
    }
   ],
   "source": [
    "a=1\n",
    "print(type(a))\n",
    "print(type(str(a)))"
   ]
  },
  {
   "cell_type": "code",
   "execution_count": 32,
   "metadata": {},
   "outputs": [
    {
     "name": "stdout",
     "output_type": "stream",
     "text": [
      "-3\n",
      "1956\n"
     ]
    }
   ],
   "source": [
    "print(int(-3.0))\n",
    "print(int(1956))\n"
   ]
  },
  {
   "cell_type": "code",
   "execution_count": 33,
   "metadata": {},
   "outputs": [
    {
     "name": "stdout",
     "output_type": "stream",
     "text": [
      "8211\n",
      "45\n"
     ]
    }
   ],
   "source": [
    "print(ord('–'))\n",
    "print(ord('-'))"
   ]
  },
  {
   "cell_type": "markdown",
   "metadata": {},
   "source": [
    "[Back to Top](#Top)"
   ]
  },
  {
   "cell_type": "markdown",
   "metadata": {},
   "source": [
    "## NumPy\n",
    "\n",
    "NumPy library makes working with data easier. \n",
    "- Because we can easily work across multiple dimensions, our code is a lot easier to understand. \n",
    "- By using vectorized operations instead of loops, our code runs faster with larger data.\n",
    "\n",
    "*NumPy Manual:\n",
    "https://docs.scipy.org/doc/numpy-1.14.0/index.html*\n"
   ]
  },
  {
   "cell_type": "code",
   "execution_count": 34,
   "metadata": {},
   "outputs": [
    {
     "name": "stdout",
     "output_type": "stream",
     "text": [
      "20.0\n"
     ]
    }
   ],
   "source": [
    "import numpy as np\n",
    "data_ndarray = np.array([10,20,30])\n",
    "\n",
    "print(data_ndarray.mean())"
   ]
  },
  {
   "cell_type": "markdown",
   "metadata": {},
   "source": [
    "### NumPy: Vectorized operations (Array)"
   ]
  },
  {
   "cell_type": "code",
   "execution_count": 35,
   "metadata": {},
   "outputs": [
    {
     "name": "stdout",
     "output_type": "stream",
     "text": [
      "[10 20 30]\n",
      "<class 'numpy.ndarray'>\n",
      "\n",
      "\n",
      "[20 30 40]\n",
      "[ True  True False]\n",
      "<class 'numpy.ndarray'>\n"
     ]
    }
   ],
   "source": [
    "data_ndarray = np.array([10,20,30])\n",
    "\n",
    "print(data_ndarray)\n",
    "print(type(data_ndarray))\n",
    "\n",
    "print('\\n')\n",
    "print(data_ndarray + 10)\n",
    "print(data_ndarray < 25)\n",
    "print(type(data_ndarray < 25))\n"
   ]
  },
  {
   "cell_type": "code",
   "execution_count": 36,
   "metadata": {},
   "outputs": [
    {
     "name": "stdout",
     "output_type": "stream",
     "text": [
      "Print fist 3 lines as example:\n",
      "[['2016', '1', '1', '5', '0', '2', '4', '21.00', '2037', '52.00', '0.80', '5.54', '11.65', '69.99', '1'], ['2016', '1', '1', '5', '0', '2', '1', '16.29', '1520', '45.00', '1.30', '0.00', '8.00', '54.30', '1'], ['2016', '1', '1', '5', '0', '2', '6', '12.70', '1462', '36.50', '1.30', '0.00', '0.00', '37.80', '2']]\n",
      "\n",
      "Convert list to array:\n",
      "[[2.016e+03 1.000e+00 1.000e+00 5.000e+00 0.000e+00 2.000e+00 4.000e+00\n",
      "  2.100e+01 2.037e+03 5.200e+01 8.000e-01 5.540e+00 1.165e+01 6.999e+01\n",
      "  1.000e+00]]\n",
      "\n",
      "\n",
      "(89560, 15)\n"
     ]
    }
   ],
   "source": [
    "import csv\n",
    "import numpy as np\n",
    "\n",
    "f = open(\"/Users/spare/Downloads/projects_python/nyc_taxis.csv\", \"r\")\n",
    "taxi_list = list(csv.reader(f))\n",
    "\n",
    "taxi_list = taxi_list[1:]\n",
    "    \n",
    "print('Print fist 3 lines as example:')\n",
    "print(taxi_list[0:3])\n",
    "\n",
    "# Convert all values to floats\n",
    "# ***That's because NumPy ndarrays can contain only one datatype.***\n",
    "converted_taxi_list = []\n",
    "for row in taxi_list:\n",
    "    converted_row = []\n",
    "    for item in row:\n",
    "        converted_row.append(float(item))\n",
    "    converted_taxi_list.append(converted_row)\n",
    "\n",
    "print('\\nConvert list to array:')\n",
    "taxi = np.array(converted_taxi_list)\n",
    "print(taxi[0:1])\n",
    "print\n",
    "\n",
    "print('\\n')\n",
    "taxi_shape = taxi.shape\n",
    "print(taxi_shape)\n",
    "\n",
    "\n",
    "row_0 = taxi[0]\n",
    "rows_391_to_500 = taxi[391:501]\n",
    "row_21_column_5 = taxi[21, 5]\n",
    "\n",
    "columns = [1,4,7]\n",
    "columns_1_4_7= taxi[:,columns]\n",
    "row_99_columns_5_to_8 =taxi[99,5:8]\n",
    "rows_100_to_200_column_14=taxi[100:200,14]"
   ]
  },
  {
   "cell_type": "code",
   "execution_count": 37,
   "metadata": {},
   "outputs": [
    {
     "name": "stdout",
     "output_type": "stream",
     "text": [
      "[69.99 54.3  37.8  32.76 18.8 ]\n",
      "<class 'numpy.ndarray'>\n",
      "[177.     6.     5.54  25.11]\n",
      "<class 'numpy.ndarray'>\n",
      "213.65\n",
      "<class 'numpy.float64'>\n"
     ]
    }
   ],
   "source": [
    "# we'll compare against the first 5 rows only\n",
    "taxi_first_five = taxi[:5]\n",
    "# select these columns: fare_amount, fees_amount, tolls_amount, tip_amount\n",
    "fare_components = taxi_first_five[:,9:13]\n",
    "\n",
    "fare_sums_row = fare_components.sum(axis=1)\n",
    "fare_sums_col = fare_components.sum(axis=0)\n",
    "fare_sums     = fare_components.sum()\n",
    "\n",
    "print(fare_sums_row)\n",
    "print(type(fare_sums_row))\n",
    "print(fare_sums_col)\n",
    "print(type(fare_sums_col))\n",
    "print(fare_sums)\n",
    "print(type(fare_sums))"
   ]
  },
  {
   "cell_type": "markdown",
   "metadata": {},
   "source": [
    "[Back to NumPy](#NumPy)     [Back to Top](#Top)\n",
    "\n"
   ]
  },
  {
   "cell_type": "markdown",
   "metadata": {},
   "source": [
    "### NumPy: Boolean Indexing\n",
    "\n",
    "In a way this is similar to \"associative array\""
   ]
  },
  {
   "cell_type": "code",
   "execution_count": 38,
   "metadata": {},
   "outputs": [
    {
     "name": "stdout",
     "output_type": "stream",
     "text": [
      "Print fist 3 lines of the LIST as example (from read csv to list):\n",
      "[['pickup_year', 'pickup_month', 'pickup_day', 'pickup_dayofweek', 'pickup_time', 'pickup_location_code', 'dropoff_location_code', 'trip_distance', 'trip_length', 'fare_amount', 'fees_amount', 'tolls_amount', 'tip_amount', 'total_amount', 'payment_type'], ['2016', '1', '1', '5', '0', '2', '4', '21.00', '2037', '52.00', '0.80', '5.54', '11.65', '69.99', '1']]\n",
      "\n",
      "Using genfromtxt:\n",
      "[[      nan       nan       nan ...       nan       nan       nan]\n",
      " [2.016e+03 1.000e+00 1.000e+00 ... 1.165e+01 6.999e+01 1.000e+00]\n",
      " [2.016e+03 1.000e+00 1.000e+00 ... 8.000e+00 5.430e+01 1.000e+00]\n",
      " ...\n",
      " [2.016e+03 6.000e+00 3.000e+01 ... 5.000e+00 6.334e+01 1.000e+00]\n",
      " [2.016e+03 6.000e+00 3.000e+01 ... 8.950e+00 4.475e+01 1.000e+00]\n",
      " [2.016e+03 6.000e+00 3.000e+01 ... 0.000e+00 5.484e+01 2.000e+00]]\n",
      "<class 'numpy.ndarray'>\n",
      "float64\n",
      "(89561, 15)\n",
      "<class 'tuple'>\n",
      "\n",
      "\n",
      "[1 2 3 4]\n",
      "(4,)\n"
     ]
    }
   ],
   "source": [
    "import numpy as np\n",
    "\n",
    "f = open(\"/Users/spare/Downloads/projects_python/nyc_taxis.csv\", \"r\")\n",
    "taxi_list = list(csv.reader(f))\n",
    "print('Print fist 3 lines of the LIST as example (from read csv to list):')\n",
    "print(taxi_list[0:2])\n",
    "\n",
    "\n",
    "print('\\nUsing genfromtxt:')\n",
    "taxi = np.genfromtxt('/Users/spare/Downloads/projects_python/nyc_taxis.csv', delimiter=',')\n",
    "print(taxi)\n",
    "print(type(taxi))\n",
    "print(taxi.dtype)\n",
    "taxi_shape = taxi.shape\n",
    "\n",
    "print(taxi_shape)\n",
    "print(type(taxi_shape))\n",
    "\n",
    "print('\\n')\n",
    "x = np.array([1, 2, 3, 4])\n",
    "print(x)\n",
    "print(x.shape)"
   ]
  },
  {
   "cell_type": "code",
   "execution_count": 39,
   "metadata": {},
   "outputs": [
    {
     "name": "stdout",
     "output_type": "stream",
     "text": [
      "pickup_month (ndarray type) is:\n",
      "[nan  1.  1. ...  6.  6.  6.]\n",
      "\n",
      "\n",
      "[False False False ... False False False]\n",
      "[[2.016e+03 2.000e+00 1.000e+00 ... 0.000e+00 3.334e+01 2.000e+00]\n",
      " [2.016e+03 2.000e+00 1.000e+00 ... 2.000e+00 1.480e+01 1.000e+00]\n",
      " [2.016e+03 2.000e+00 1.000e+00 ... 6.350e+00 3.815e+01 1.000e+00]\n",
      " ...\n",
      " [2.016e+03 2.000e+00 2.900e+01 ... 0.000e+00 5.280e+01 2.000e+00]\n",
      " [2.016e+03 2.000e+00 2.900e+01 ... 6.350e+00 3.819e+01 1.000e+00]\n",
      " [2.016e+03 2.000e+00 2.900e+01 ... 3.000e+00 2.630e+01 1.000e+00]]\n",
      "(13333, 15)\n",
      "13333\n",
      "\n",
      "\n",
      "[2. 2. 2. ... 2. 2. 2.]\n",
      "(13333,)\n",
      "13333\n"
     ]
    }
   ],
   "source": [
    "#remove header\n",
    "pickup_month = taxi[:,1]\n",
    "print('pickup_month (ndarray type) is:')\n",
    "print(pickup_month)\n",
    "\n",
    "print('\\n')\n",
    "# create BOOLEAN array of pickup_month==2\n",
    "february_bool = pickup_month==2\n",
    "print(february_bool)\n",
    "\n",
    "# associate the boolean array back to pickup_month\n",
    "february = taxi[february_bool]\n",
    "print(february)\n",
    "february_rides = february.shape\n",
    "print(february_rides)\n",
    "print(february_rides[0])\n",
    "\n",
    "print('\\n')\n",
    "february = pickup_month[february_bool]\n",
    "print(february)\n",
    "february_rides = february.shape\n",
    "print(february_rides)\n",
    "print(february_rides[0])\n"
   ]
  },
  {
   "cell_type": "markdown",
   "metadata": {},
   "source": [
    "### Modify Array"
   ]
  },
  {
   "cell_type": "code",
   "execution_count": 40,
   "metadata": {},
   "outputs": [],
   "source": [
    "taxi_modified = taxi.copy()\n",
    "taxi_modified[28124,5] = 1\n",
    "taxi_modified[:,0] = 16\n",
    "taxi_modified[1800:1801,7]=taxi_modified[:,7].mean()\n",
    "\n",
    "#For rows where the value of total_amount is less than 0, \n",
    "# use assignment to change the value to 0.\n",
    "taxi_copy = taxi.copy()\n",
    "total_amount = taxi_copy[:,13]\n",
    "taxi_copy[total_amount<0] = 0"
   ]
  },
  {
   "cell_type": "code",
   "execution_count": 41,
   "metadata": {},
   "outputs": [
    {
     "name": "stdout",
     "output_type": "stream",
     "text": [
      "[[0.]\n",
      " [0.]\n",
      " [0.]\n",
      " ...\n",
      " [0.]\n",
      " [0.]\n",
      " [0.]]\n",
      "\n",
      "\n",
      "[[      nan       nan       nan ...       nan       nan 0.000e+00]\n",
      " [2.016e+03 1.000e+00 1.000e+00 ... 6.999e+01 1.000e+00 0.000e+00]\n",
      " [2.016e+03 1.000e+00 1.000e+00 ... 5.430e+01 1.000e+00 0.000e+00]\n",
      " ...\n",
      " [2.016e+03 6.000e+00 3.000e+01 ... 6.334e+01 1.000e+00 0.000e+00]\n",
      " [2.016e+03 6.000e+00 3.000e+01 ... 4.475e+01 1.000e+00 0.000e+00]\n",
      " [2.016e+03 6.000e+00 3.000e+01 ... 5.484e+01 2.000e+00 0.000e+00]]\n",
      "\n",
      "[[      nan       nan       nan ...       nan       nan 0.000e+00]\n",
      " [2.016e+03 1.000e+00 1.000e+00 ... 6.999e+01 1.000e+00 1.000e+00]\n",
      " [2.016e+03 1.000e+00 1.000e+00 ... 5.430e+01 1.000e+00 1.000e+00]\n",
      " ...\n",
      " [2.016e+03 6.000e+00 3.000e+01 ... 6.334e+01 1.000e+00 1.000e+00]\n",
      " [2.016e+03 6.000e+00 3.000e+01 ... 4.475e+01 1.000e+00 1.000e+00]\n",
      " [2.016e+03 6.000e+00 3.000e+01 ... 5.484e+01 2.000e+00 1.000e+00]]\n"
     ]
    }
   ],
   "source": [
    "#numpy.zeros(shape, dtype=float, order='C')\n",
    "zeros = np.zeros([taxi.shape[0], 1])\n",
    "print(zeros)\n",
    "\n",
    "print('\\n')\n",
    "#numpy.concatenate((a1, a2, ...), axis=0, out=None)\n",
    "#Join a sequence of arrays along an existing axis.\n",
    "taxi_modified = np.concatenate([taxi, zeros], axis=1)\n",
    "print(taxi_modified)\n",
    "\n",
    "print()\n",
    "taxi_modified[taxi_modified[:,5]==2, 15] = 1\n",
    "taxi_modified[taxi_modified[:,5]==3, 15] = 1\n",
    "taxi_modified[taxi_modified[:,5]==5, 15] = 1\n",
    "print(taxi_modified)\n"
   ]
  },
  {
   "cell_type": "markdown",
   "metadata": {},
   "source": [
    "[Back to NumPy](#NumPy)\n",
    "[Back to Top](#Top)\n",
    "\n"
   ]
  },
  {
   "cell_type": "markdown",
   "metadata": {},
   "source": [
    "## Pandas\n",
    "\n",
    "Pandas is not so much a replacement for NumPy as an extension of NumPy.\n",
    "\n",
    "[DATAFRAME objects](#Dataframe_objects) [Dataframe.loc[]](#Dataframe.loc[])\n",
    "\n",
    "[SERIES objects](#Series_objects)\n",
    "[Series.loc()](#Series.loc())\n",
    "[Series.describe()](#Series.describe())\n",
    "[Series.value_counts()](#Series.value_counts())\n",
    "\n",
    "[Modification](#Modification)\n",
    "\n",
    "**Useful references:**\n",
    "\n",
    "**- https://honingds.com/blog/pandas-read_csv/**"
   ]
  },
  {
   "cell_type": "markdown",
   "metadata": {},
   "source": [
    "### Dataframe_objects\n",
    "- Dataframe = 2D Array\n",
    "\n",
    "[Dataframe.loc[]](#Dataframe.loc())"
   ]
  },
  {
   "cell_type": "markdown",
   "metadata": {},
   "source": [
    "#### Simple example"
   ]
  },
  {
   "cell_type": "code",
   "execution_count": 42,
   "metadata": {},
   "outputs": [
    {
     "name": "stdout",
     "output_type": "stream",
     "text": [
      "            max_speed  shield\n",
      "cobra               1       2\n",
      "viper               4       5\n",
      "sidewinder          7       8\n",
      "<class 'pandas.core.frame.DataFrame'>\n",
      "\n",
      "----------------------\n",
      "max_speed    1\n",
      "shield       2\n",
      "Name: cobra, dtype: int64\n"
     ]
    }
   ],
   "source": [
    "import pandas as pd\n",
    "\n",
    "df = pd.DataFrame([[1, 2], [4, 5], [7, 8]],\n",
    "      index   =['cobra', 'viper', 'sidewinder'],\n",
    "      columns =['max_speed', 'shield'])\n",
    "\n",
    "print(df)\n",
    "print(type(df) )\n",
    "\n",
    "print('\\n----------------------')\n",
    "# print(df.loc['max_speed']) --> can't do this \n",
    "print(df.loc['cobra'])"
   ]
  },
  {
   "cell_type": "markdown",
   "metadata": {},
   "source": [
    "#### Import from file"
   ]
  },
  {
   "cell_type": "code",
   "execution_count": 43,
   "metadata": {},
   "outputs": [],
   "source": [
    "\n",
    "f500 = pd.read_csv('/Users/spare/Downloads/projects_python/f500.csv', index_col=0)\n",
    "f500.index.name = None"
   ]
  },
  {
   "cell_type": "code",
   "execution_count": 44,
   "metadata": {},
   "outputs": [
    {
     "name": "stdout",
     "output_type": "stream",
     "text": [
      "<class 'pandas.core.frame.DataFrame'>\n",
      "(500, 16)\n",
      "\n",
      "f500.info()=\n",
      "<class 'pandas.core.frame.DataFrame'>\n",
      "Index: 500 entries, Walmart to AutoNation\n",
      "Data columns (total 16 columns):\n",
      "rank                        500 non-null int64\n",
      "revenues                    500 non-null int64\n",
      "revenue_change              498 non-null float64\n",
      "profits                     499 non-null float64\n",
      "assets                      500 non-null int64\n",
      "profit_change               436 non-null float64\n",
      "ceo                         500 non-null object\n",
      "industry                    500 non-null object\n",
      "sector                      500 non-null object\n",
      "previous_rank               500 non-null int64\n",
      "country                     500 non-null object\n",
      "hq_location                 500 non-null object\n",
      "website                     500 non-null object\n",
      "years_on_global_500_list    500 non-null int64\n",
      "employees                   500 non-null int64\n",
      "total_stockholder_equity    500 non-null int64\n",
      "dtypes: float64(3), int64(7), object(6)\n",
      "memory usage: 66.4+ KB\n",
      "None\n",
      "\n",
      "----------------------\n",
      "\f",
      "500.head(0)=\n",
      "Empty DataFrame\n",
      "Columns: [rank, revenues, revenue_change, profits, assets, profit_change, ceo, industry, sector, previous_rank, country, hq_location, website, years_on_global_500_list, employees, total_stockholder_equity]\n",
      "Index: []\n",
      "\n",
      "----------------------\n",
      "\n",
      "f500.tail(1)=\n",
      "            rank  revenues  revenue_change  profits  assets  profit_change  \\\n",
      "AutoNation   500     21609             3.6    430.5   10060           -2.7   \n",
      "\n",
      "                           ceo             industry     sector  previous_rank  \\\n",
      "AutoNation  Michael J. Jackson  Specialty Retailers  Retailing              0   \n",
      "\n",
      "           country          hq_location                    website  \\\n",
      "AutoNation     USA  Fort Lauderdale, FL  http://www.autonation.com   \n",
      "\n",
      "            years_on_global_500_list  employees  total_stockholder_equity  \n",
      "AutoNation                        12      26000                      2310  \n"
     ]
    }
   ],
   "source": [
    "f500_type = type(f500)\n",
    "print(f500_type)\n",
    "\n",
    "f500_shape = f500.shape\n",
    "print(f500_shape)\n",
    "\n",
    "print('\\nf500.info()=')\n",
    "print(f500.info())\n",
    "\n",
    "print('\\n----------------------')\n",
    "print('\\f500.head(0)=')\n",
    "f500_head_0 = f500.head(0)\n",
    "print(f500_head_0)\n",
    "\n",
    "print('\\n----------------------')\n",
    "print('\\nf500.tail(1)=')\n",
    "f500_tail_1 = f500.tail(1)\n",
    "print(f500_tail_1)"
   ]
  },
  {
   "cell_type": "markdown",
   "metadata": {},
   "source": [
    "[Back to DATAFRAME](#Dataframe_objects)\n",
    "\n",
    "#### Dataframe.loc()"
   ]
  },
  {
   "cell_type": "code",
   "execution_count": 45,
   "metadata": {},
   "outputs": [
    {
     "name": "stdout",
     "output_type": "stream",
     "text": [
      "<class 'pandas.core.frame.DataFrame'> \n",
      "\n",
      "                     rank  revenues  revenue_change  profits  assets  \\\n",
      "Indian Oil            168     53562            -2.1   2960.0   42132   \n",
      "Reliance Industries   203     46931             8.0   4458.9  108856   \n",
      "\n",
      "                     profit_change               ceo            industry  \\\n",
      "Indian Oil                    72.7      Sanjiv Singh  Petroleum Refining   \n",
      "Reliance Industries            5.6  Mukesh D. Ambani  Petroleum Refining   \n",
      "\n",
      "                     sector  previous_rank country       hq_location  \\\n",
      "Indian Oil           Energy            161   India  New Delhi, India   \n",
      "Reliance Industries  Energy            215   India     Mumbai, India   \n",
      "\n",
      "                                 website  years_on_global_500_list  employees  \\\n",
      "Indian Oil           http://www.iocl.com                        23      34999   \n",
      "Reliance Industries   http://www.ril.com                        14     140483   \n",
      "\n",
      "                     total_stockholder_equity  \n",
      "Indian Oil                              15724  \n",
      "Reliance Industries                     40614  \n"
     ]
    }
   ],
   "source": [
    "india_df = f500.loc[f500['country'] =='India'] \n",
    "print(type(india_df),'\\n')\n",
    "print(india_df.head(2))\n"
   ]
  },
  {
   "cell_type": "code",
   "execution_count": 46,
   "metadata": {},
   "outputs": [
    {
     "name": "stdout",
     "output_type": "stream",
     "text": [
      "<class 'pandas.core.frame.DataFrame'> \n",
      "\n",
      "\"years_on_global_500_list\" and \"revenues\" =\n",
      "                                years_on_global_500_list  revenues\n",
      "Walmart                                               23    485873\n",
      "State Grid                                            17    315199\n",
      "Sinopec Group                                         19    267518\n",
      "China National Petroleum                              17    262573\n",
      "Toyota Motor                                          23    254694\n",
      "...                                                  ...       ...\n",
      "Teva Pharmaceutical Industries                         1     21903\n",
      "New China Life Insurance                               2     21796\n",
      "Wm. Morrison Supermarkets                             13     21741\n",
      "TUI                                                   23     21655\n",
      "AutoNation                                            12     21609\n",
      "\n",
      "[500 rows x 2 columns]\n",
      "\n",
      "----------------------\n",
      "<class 'pandas.core.frame.DataFrame'>\n",
      "\n",
      " \"ceo\" to \"sector\" =\n",
      "                                                ceo  \\\n",
      "Walmart                         C. Douglas McMillon   \n",
      "State Grid                                  Kou Wei   \n",
      "Sinopec Group                             Wang Yupu   \n",
      "China National Petroleum              Zhang Jianhua   \n",
      "Toyota Motor                            Akio Toyoda   \n",
      "...                                             ...   \n",
      "Teva Pharmaceutical Industries    Yitzhak Peterburg   \n",
      "New China Life Insurance                   Wan Feng   \n",
      "Wm. Morrison Supermarkets            David T. Potts   \n",
      "TUI                               Friedrich Joussen   \n",
      "AutoNation                       Michael J. Jackson   \n",
      "\n",
      "                                                       industry  \\\n",
      "Walmart                                   General Merchandisers   \n",
      "State Grid                                            Utilities   \n",
      "Sinopec Group                                Petroleum Refining   \n",
      "China National Petroleum                     Petroleum Refining   \n",
      "Toyota Motor                           Motor Vehicles and Parts   \n",
      "...                                                         ...   \n",
      "Teva Pharmaceutical Industries                  Pharmaceuticals   \n",
      "New China Life Insurance        Insurance: Life, Health (stock)   \n",
      "Wm. Morrison Supermarkets                  Food and Drug Stores   \n",
      "TUI                                             Travel Services   \n",
      "AutoNation                                  Specialty Retailers   \n",
      "\n",
      "                                                sector  \n",
      "Walmart                                      Retailing  \n",
      "State Grid                                      Energy  \n",
      "Sinopec Group                                   Energy  \n",
      "China National Petroleum                        Energy  \n",
      "Toyota Motor                    Motor Vehicles & Parts  \n",
      "...                                                ...  \n",
      "Teva Pharmaceutical Industries             Health Care  \n",
      "New China Life Insurance                    Financials  \n",
      "Wm. Morrison Supermarkets           Food & Drug Stores  \n",
      "TUI                                  Business Services  \n",
      "AutoNation                                   Retailing  \n",
      "\n",
      "[500 rows x 3 columns]\n"
     ]
    }
   ],
   "source": [
    "revenues_years = f500[[\"years_on_global_500_list\",\"revenues\"]]\n",
    "print(type(revenues_years),'\\n')\n",
    "print('\"years_on_global_500_list\" and \"revenues\" =')\n",
    "print(revenues_years)\n",
    "\n",
    "print('\\n----------------------')\n",
    "ceo_to_sector = f500.loc[:,\"ceo\":\"sector\"]\n",
    "print(type(ceo_to_sector))\n",
    "print('\\n \"ceo\" to \"sector\" =')\n",
    "print(ceo_to_sector)"
   ]
  },
  {
   "cell_type": "markdown",
   "metadata": {},
   "source": [
    "[Back to DATAFRAME](#Dataframe_objects)\n",
    "\n",
    "\n",
    "[Back to Pandas](#Pandas)"
   ]
  },
  {
   "cell_type": "markdown",
   "metadata": {},
   "source": [
    "**Using Dataframe on 'column'**"
   ]
  },
  {
   "cell_type": "code",
   "execution_count": 47,
   "metadata": {},
   "outputs": [
    {
     "name": "stdout",
     "output_type": "stream",
     "text": [
      "<class 'pandas.core.series.Series'> \n",
      "\n",
      "Walmart                                     General Merchandisers\n",
      "State Grid                                              Utilities\n",
      "Sinopec Group                                  Petroleum Refining\n",
      "China National Petroleum                       Petroleum Refining\n",
      "Toyota Motor                             Motor Vehicles and Parts\n",
      "                                               ...               \n",
      "Teva Pharmaceutical Industries                    Pharmaceuticals\n",
      "New China Life Insurance          Insurance: Life, Health (stock)\n",
      "Wm. Morrison Supermarkets                    Food and Drug Stores\n",
      "TUI                                               Travel Services\n",
      "AutoNation                                    Specialty Retailers\n",
      "Name: industry, Length: 500, dtype: object\n",
      "\n",
      "----------------------\n",
      "OR:\n",
      "Walmart                                     General Merchandisers\n",
      "State Grid                                              Utilities\n",
      "Sinopec Group                                  Petroleum Refining\n",
      "China National Petroleum                       Petroleum Refining\n",
      "Toyota Motor                             Motor Vehicles and Parts\n",
      "                                               ...               \n",
      "Teva Pharmaceutical Industries                    Pharmaceuticals\n",
      "New China Life Insurance          Insurance: Life, Health (stock)\n",
      "Wm. Morrison Supermarkets                    Food and Drug Stores\n",
      "TUI                                               Travel Services\n",
      "AutoNation                                    Specialty Retailers\n",
      "Name: industry, Length: 500, dtype: object\n",
      "\n",
      "----------------------\n",
      "General Merchandisers\n",
      "\n",
      "----------------------\n",
      "<class 'pandas.core.series.Series'>\n",
      "(500,)\n"
     ]
    }
   ],
   "source": [
    "industries=f500.loc[:,\"industry\"]\n",
    "print(type(industries),'\\n')\n",
    "print(industries)\n",
    "\n",
    "print('\\n----------------------')\n",
    "print('OR:')\n",
    "industries=f500[\"industry\"]\n",
    "print(industries)\n",
    "\n",
    "print('\\n----------------------')\n",
    "print(industries[0])\n",
    "\n",
    "print('\\n----------------------')\n",
    "industries_type=type(industries)\n",
    "print(industries_type)\n",
    "print(industries.shape)"
   ]
  },
  {
   "cell_type": "markdown",
   "metadata": {},
   "source": [
    "[Back to DATAFRAME](#Dataframe_objects)"
   ]
  },
  {
   "cell_type": "markdown",
   "metadata": {},
   "source": [
    "**Using Dataframe.loc[ ] on 'index'**"
   ]
  },
  {
   "cell_type": "code",
   "execution_count": 48,
   "metadata": {},
   "outputs": [
    {
     "name": "stdout",
     "output_type": "stream",
     "text": [
      "<class 'pandas.core.series.Series'>\n",
      "(16,)\n",
      "\n",
      "\n",
      "rank                                                   5\n",
      "revenues                                          254694\n",
      "revenue_change                                       7.7\n",
      "profits                                          16899.3\n",
      "assets                                            437575\n",
      "profit_change                                      -12.3\n",
      "ceo                                          Akio Toyoda\n",
      "industry                        Motor Vehicles and Parts\n",
      "sector                            Motor Vehicles & Parts\n",
      "previous_rank                                          8\n",
      "country                                            Japan\n",
      "hq_location                                Toyota, Japan\n",
      "website                     http://www.toyota-global.com\n",
      "years_on_global_500_list                              23\n",
      "employees                                         364445\n",
      "total_stockholder_equity                          157210\n",
      "Name: Toyota Motor, dtype: object\n",
      "\n",
      "----------------------\n",
      "<class 'pandas.core.frame.DataFrame'> \n",
      "\n",
      "                      rank  revenues  revenue_change  profits  assets  \\\n",
      "Anheuser-Busch InBev   206     45905             5.3   1241.0  258381   \n",
      "Coca-Cola              235     41863            -5.5   6527.0   87270   \n",
      "Heineken Holding       468     23044            -0.7    861.5   41469   \n",
      "\n",
      "                      profit_change                        ceo   industry  \\\n",
      "Anheuser-Busch InBev          -85.0               Carlos Brito  Beverages   \n",
      "Coca-Cola                     -11.2           James B. Quincey  Beverages   \n",
      "Heineken Holding              -18.9  Jean-Francois van Boxmeer  Beverages   \n",
      "\n",
      "                                         sector  previous_rank      country  \\\n",
      "Anheuser-Busch InBev  Food, Beverages & Tobacco            211      Belgium   \n",
      "Coca-Cola             Food, Beverages & Tobacco            206          USA   \n",
      "Heineken Holding      Food, Beverages & Tobacco            459  Netherlands   \n",
      "\n",
      "                                 hq_location  \\\n",
      "Anheuser-Busch InBev         Leuven, Belgium   \n",
      "Coca-Cola                        Atlanta, GA   \n",
      "Heineken Holding      Amsterdam, Netherlands   \n",
      "\n",
      "                                                website  \\\n",
      "Anheuser-Busch InBev            http://www.ab-inbev.com   \n",
      "Coca-Cola               http://www.coca-colacompany.com   \n",
      "Heineken Holding      http://www.theheinekencompany.com   \n",
      "\n",
      "                      years_on_global_500_list  employees  \\\n",
      "Anheuser-Busch InBev                        12     206633   \n",
      "Coca-Cola                                   23     100300   \n",
      "Heineken Holding                            11      73525   \n",
      "\n",
      "                      total_stockholder_equity  \n",
      "Anheuser-Busch InBev                     71339  \n",
      "Coca-Cola                                23062  \n",
      "Heineken Holding                          6958  \n",
      "\n",
      "----------------------\n",
      "<class 'pandas.core.frame.DataFrame'> \n",
      "\n",
      "                                 rank  revenues  revenue_change  profits  \\\n",
      "Tata Motors                       247     40329            -4.2   1111.6   \n",
      "Aluminum Corp. of China           248     40278             6.0   -282.5   \n",
      "Mitsui                            249     40275             1.6   2825.3   \n",
      "Manulife Financial                250     40238            49.4   2209.7   \n",
      "China Minsheng Banking            251     40234            -5.2   7201.6   \n",
      "China Pacific Insurance (Group)   252     40193             2.2   1814.9   \n",
      "American Airlines Group           253     40180            -2.0   2676.0   \n",
      "Nationwide                        254     40074            -0.4    334.3   \n",
      "\n",
      "                                 assets  profit_change                   ceo  \\\n",
      "Tata Motors                       42162          -34.0      Guenter Butschek   \n",
      "Aluminum Corp. of China           75089            NaN              Yu Dehui   \n",
      "Mitsui                           103231            NaN       Tatsuo Yasunaga   \n",
      "Manulife Financial               537461           28.9     Donald A. Guloien   \n",
      "China Minsheng Banking           848389           -1.8         Zheng Wanchun   \n",
      "China Pacific Insurance (Group)  146873          -35.7          Huo Lianhong   \n",
      "American Airlines Group           51274          -64.8     W. Douglas Parker   \n",
      "Nationwide                       197790          -42.4  Stephen S. Rasmussen   \n",
      "\n",
      "                                                                  industry  \\\n",
      "Tata Motors                                       Motor Vehicles and Parts   \n",
      "Aluminum Corp. of China                                             Metals   \n",
      "Mitsui                                                             Trading   \n",
      "Manulife Financial                         Insurance: Life, Health (stock)   \n",
      "China Minsheng Banking                       Banks: Commercial and Savings   \n",
      "China Pacific Insurance (Group)            Insurance: Life, Health (stock)   \n",
      "American Airlines Group                                           Airlines   \n",
      "Nationwide                       Insurance: Property and Casualty (Mutual)   \n",
      "\n",
      "                                                 sector  previous_rank country  \n",
      "Tata Motors                      Motor Vehicles & Parts            226   India  \n",
      "Aluminum Corp. of China                       Materials            262   China  \n",
      "Mitsui                                      Wholesalers            245   Japan  \n",
      "Manulife Financial                           Financials            394  Canada  \n",
      "China Minsheng Banking                       Financials            221   China  \n",
      "China Pacific Insurance (Group)              Financials            251   China  \n",
      "American Airlines Group                  Transportation            236     USA  \n",
      "Nationwide                                   Financials            241     USA  \n"
     ]
    }
   ],
   "source": [
    "toyota = f500.loc[\"Toyota Motor\"]\n",
    "print(type(toyota))\n",
    "print(toyota.shape)\n",
    "print('\\n')\n",
    "print(toyota)\n",
    "\n",
    "print('\\n----------------------')\n",
    "drink_companies = f500.loc[[\"Anheuser-Busch InBev\", \"Coca-Cola\", \"Heineken Holding\"]]\n",
    "print(type(drink_companies),'\\n')\n",
    "print(drink_companies)\n",
    "\n",
    "#by both ROW and COLUMN\n",
    "print('\\n----------------------')\n",
    "middle_companies=f500.loc[\"Tata Motors\":\"Nationwide\" , \"rank\":\"country\"]\n",
    "print(type(middle_companies),'\\n')\n",
    "print(middle_companies)"
   ]
  },
  {
   "cell_type": "markdown",
   "metadata": {},
   "source": [
    "#### Another example of DataFrame.loc[]"
   ]
  },
  {
   "cell_type": "code",
   "execution_count": 49,
   "metadata": {},
   "outputs": [
    {
     "name": "stdout",
     "output_type": "stream",
     "text": [
      "<class 'pandas.core.frame.DataFrame'>\n",
      "              rank  previous_rank\n",
      "Aviva           90            279\n",
      "HP             194             48\n",
      "JD.com         261            366\n",
      "BHP Billiton   350            168\n",
      "\n",
      "----------------------\n",
      "                                       rank              sector  country\n",
      "National Grid                           491              Energy  Britain\n",
      "Dollar General                          492           Retailing      USA\n",
      "Telecom Italia                          493  Telecommunications    Italy\n",
      "Xiamen ITG Holding Group                494         Wholesalers    China\n",
      "Xinjiang Guanghui Industry Investment   495         Wholesalers    China\n",
      "Teva Pharmaceutical Industries          496         Health Care   Israel\n",
      "New China Life Insurance                497          Financials    China\n",
      "Wm. Morrison Supermarkets               498  Food & Drug Stores  Britain\n",
      "TUI                                     499   Business Services  Germany\n",
      "AutoNation                              500           Retailing      USA\n"
     ]
    }
   ],
   "source": [
    "big_movers = f500.loc[ [\"Aviva\",\"HP\",\"JD.com\",\"BHP Billiton\"] , [\"rank\",\"previous_rank\"]]\n",
    "print(type(big_movers))\n",
    "print(big_movers)\n",
    "\n",
    "print('\\n----------------------')\n",
    "bottom_companies=f500.loc[\"National Grid\":\"AutoNation\", [\"rank\", \"sector\", \"country\"] ]\n",
    "print(bottom_companies)"
   ]
  },
  {
   "cell_type": "markdown",
   "metadata": {},
   "source": [
    "[Back to DATAFRAME](#Dataframe_objects)   [Back to Pandas](#Pandas)"
   ]
  },
  {
   "cell_type": "markdown",
   "metadata": {},
   "source": [
    "### Series_objects\n",
    "- Series = 1D Array\n",
    "\n",
    "[Series.describe()](#Series.describe())\n",
    "[Series.loc[]](#Series.loc[])\n",
    "[Series.value_counts()](#Series.value_counts())\n"
   ]
  },
  {
   "cell_type": "code",
   "execution_count": 50,
   "metadata": {},
   "outputs": [
    {
     "name": "stdout",
     "output_type": "stream",
     "text": [
      "\n",
      "f500.head(0)=\n",
      "Empty DataFrame\n",
      "Columns: [rank, revenues, revenue_change, profits, assets, profit_change, ceo, industry, sector, previous_rank, country, hq_location, website, years_on_global_500_list, employees, total_stockholder_equity]\n",
      "Index: []\n",
      "\n",
      "----------------------\n",
      "(500,)\n",
      "<class 'pandas.core.series.Series'>\n",
      "Walmart                     1\n",
      "State Grid                  2\n",
      "Sinopec Group               3\n",
      "China National Petroleum    4\n",
      "Toyota Motor                5\n",
      "Name: rank, dtype: int64\n"
     ]
    }
   ],
   "source": [
    "#Print header name as reference\n",
    "print('\\nf500.head(0)=')\n",
    "f500_head_0 = f500.head(0)\n",
    "print(f500_head_0)\n",
    "\n",
    "print('\\n----------------------')\n",
    "rank = f500[\"rank\"]\n",
    "print(rank.shape)\n",
    "print(type(rank))\n",
    "print(rank.head(5))"
   ]
  },
  {
   "cell_type": "markdown",
   "metadata": {},
   "source": [
    "#### Series.describe() "
   ]
  },
  {
   "cell_type": "code",
   "execution_count": 51,
   "metadata": {},
   "outputs": [
    {
     "name": "stdout",
     "output_type": "stream",
     "text": [
      "count    500.000000\n",
      "mean     222.134000\n",
      "std      146.941961\n",
      "min        0.000000\n",
      "25%       92.750000\n",
      "50%      219.500000\n",
      "75%      347.250000\n",
      "max      500.000000\n",
      "Name: previous_rank, dtype: float64\n"
     ]
    }
   ],
   "source": [
    "prev_rank=f500[\"previous_rank\"]\n",
    "prev_rank_desc=prev_rank.describe()\n",
    "print(prev_rank_desc)"
   ]
  },
  {
   "cell_type": "markdown",
   "metadata": {},
   "source": [
    "#### Series.max() Series.min() Series.mean() Series.median() Series.mode() Series.sum()"
   ]
  },
  {
   "cell_type": "code",
   "execution_count": 52,
   "metadata": {},
   "outputs": [
    {
     "name": "stdout",
     "output_type": "stream",
     "text": [
      "rank                            500.0\n",
      "revenues                     485873.0\n",
      "revenue_change                  442.3\n",
      "profits                       45687.0\n",
      "assets                      3473238.0\n",
      "profit_change                  8909.5\n",
      "previous_rank                   500.0\n",
      "years_on_global_500_list         23.0\n",
      "employees                   2300000.0\n",
      "total_stockholder_equity     301893.0\n",
      "dtype: float64\n",
      "\n",
      "\n",
      "(10,)\n"
     ]
    }
   ],
   "source": [
    "max_f500 = f500.max(numeric_only=1)\n",
    "print(max_f500)\n",
    "print('\\n')\n",
    "print(max_f500.shape)"
   ]
  },
  {
   "cell_type": "markdown",
   "metadata": {},
   "source": [
    "[Back to SERIES](#Series_objects) [Back to Pandas](#Pandas)\n",
    "\n",
    "\n",
    "#### Series.loc[]"
   ]
  },
  {
   "cell_type": "code",
   "execution_count": 53,
   "metadata": {},
   "outputs": [
    {
     "name": "stdout",
     "output_type": "stream",
     "text": [
      "<class 'pandas.core.series.Series'>\n",
      "Walmart                               USA\n",
      "State Grid                          China\n",
      "Sinopec Group                       China\n",
      "China National Petroleum            China\n",
      "Toyota Motor                        Japan\n",
      "                                   ...   \n",
      "Teva Pharmaceutical Industries     Israel\n",
      "New China Life Insurance            China\n",
      "Wm. Morrison Supermarkets         Britain\n",
      "TUI                               Germany\n",
      "AutoNation                            USA\n",
      "Name: country, Length: 500, dtype: object\n",
      "\n",
      "----------------------\n",
      "China\n",
      "USA\n"
     ]
    }
   ],
   "source": [
    "countries = f500['country']\n",
    "print(type(countries))\n",
    "print(countries)\n",
    "print('\\n----------------------')\n",
    "\n",
    "print(countries.loc['State Grid'] )\n",
    "print(countries.loc['Walmart'])"
   ]
  },
  {
   "cell_type": "markdown",
   "metadata": {},
   "source": [
    "[Back to SERIES](#Series_objects) [Back to Pandas](#Pandas)"
   ]
  },
  {
   "cell_type": "markdown",
   "metadata": {},
   "source": [
    "#### Series.value_counts()"
   ]
  },
  {
   "cell_type": "code",
   "execution_count": 54,
   "metadata": {},
   "outputs": [
    {
     "name": "stdout",
     "output_type": "stream",
     "text": [
      "<class 'pandas.core.series.Series'>\n",
      "USA            132\n",
      "China          109\n",
      "Japan           51\n",
      "Germany         29\n",
      "France          29\n",
      "Britain         24\n",
      "South Korea     15\n",
      "Switzerland     14\n",
      "Netherlands     14\n",
      "Canada          11\n",
      "Name: country, dtype: int64\n",
      "\n",
      " <class 'pandas.core.series.Series'>\n"
     ]
    }
   ],
   "source": [
    "countries = f500[\"country\"]\n",
    "print(type(countries))\n",
    "\n",
    "countries_counts = countries.value_counts()\n",
    "print(countries_counts[0:10])\n",
    "print('\\n', type(countries_counts) )"
   ]
  },
  {
   "cell_type": "code",
   "execution_count": 55,
   "metadata": {},
   "outputs": [
    {
     "name": "stdout",
     "output_type": "stream",
     "text": [
      "Number of 'country' are 'India':\n",
      "7\n",
      "<class 'numpy.int64'>\n",
      "\n",
      "----------------------\n",
      "<class 'pandas.core.series.Series'>\n",
      "USA       132\n",
      "Canada     11\n",
      "Mexico      2\n",
      "Name: country, dtype: int64\n",
      "----------------------\n",
      "OR the shortcut (using Series.loc[]) would be:\n",
      "     f500['country'].value_counts().loc[[\"USA\",\"Canada\",\"Mexico\"]  \n",
      "\n",
      "USA       132\n",
      "Canada     11\n",
      "Mexico      2\n",
      "Name: country, dtype: int64\n"
     ]
    }
   ],
   "source": [
    "india = countries_counts.loc['India']\n",
    "print(\"\"\"Number of 'country' are 'India':\"\"\")\n",
    "print(india)\n",
    "print(type(india))\n",
    "\n",
    "print('\\n----------------------')\n",
    "north_america = countries_counts.loc[[\"USA\",\"Canada\",\"Mexico\"]]\n",
    "print(type(north_america))\n",
    "print(north_america)\n",
    "\n",
    "#Using Series.loc[]\n",
    "print('----------------------')\n",
    "print('OR the shortcut (using Series.loc[]) would be:')\n",
    "print(\"\"\"     f500['country'].value_counts().loc[[\"USA\",\"Canada\",\"Mexico\"]  \\n\"\"\")\n",
    "north_america = f500['country'].value_counts().loc[ [\"USA\",\"Canada\",\"Mexico\"] ]\n",
    "print(north_america)"
   ]
  },
  {
   "cell_type": "markdown",
   "metadata": {},
   "source": [
    "[Back to SERIES](#Series_objects) [Back to Pandas](#Pandas)"
   ]
  },
  {
   "cell_type": "markdown",
   "metadata": {},
   "source": [
    "#### Another example combines Series.loc[] and Series.value_counts"
   ]
  },
  {
   "cell_type": "code",
   "execution_count": 56,
   "metadata": {},
   "outputs": [
    {
     "name": "stdout",
     "output_type": "stream",
     "text": [
      "Walmart                             1\n",
      "State Grid                          2\n",
      "Sinopec Group                       4\n",
      "China National Petroleum            3\n",
      "Toyota Motor                        8\n",
      "                                 ... \n",
      "Teva Pharmaceutical Industries      0\n",
      "New China Life Insurance          427\n",
      "Wm. Morrison Supermarkets         437\n",
      "TUI                               467\n",
      "AutoNation                          0\n",
      "Name: previous_rank, Length: 500, dtype: int64\n",
      "\n",
      "----------------------\n",
      "0      33\n",
      "159     1\n",
      "147     1\n",
      "148     1\n",
      "149     1\n",
      "       ..\n",
      "321     1\n",
      "322     1\n",
      "323     1\n",
      "324     1\n",
      "235     1\n",
      "Name: previous_rank, Length: 468, dtype: int64\n",
      "\n",
      "----------------------\n",
      "33\n",
      "\n",
      "OR we can just do:\n",
      " zero_previous_rank=f500.[\"previous_rank\"].value_counts().loc[0]\n",
      "33\n"
     ]
    }
   ],
   "source": [
    "previous_rank = f500[\"previous_rank\"]\n",
    "print(previous_rank)\n",
    "\n",
    "print('\\n----------------------')\n",
    "previous_rank_counts = previous_rank.value_counts()\n",
    "print(previous_rank_counts)\n",
    "\n",
    "print('\\n----------------------')\n",
    "zero_previous_rank = previous_rank_counts.loc[0]\n",
    "print(zero_previous_rank)\n",
    "\n",
    "print(\"\"\"\\nOR we can just do:\\n zero_previous_rank=f500.[\"previous_rank\"].value_counts().loc[0]\"\"\")\n",
    "print(f500[\"previous_rank\"].value_counts().loc[0])"
   ]
  },
  {
   "cell_type": "markdown",
   "metadata": {},
   "source": [
    "[Back to SERIES](#Series_objects) [Back to Pandas](#Pandas)\n",
    "\n",
    "#### Modification & Boolean"
   ]
  },
  {
   "cell_type": "code",
   "execution_count": 57,
   "metadata": {},
   "outputs": [
    {
     "name": "stdout",
     "output_type": "stream",
     "text": [
      "Andrew N. Liveris\n",
      "Jim Fitterling\n"
     ]
    },
    {
     "name": "stderr",
     "output_type": "stream",
     "text": [
      "/Users/spare/anaconda3/lib/python3.7/site-packages/pandas/core/indexing.py:205: SettingWithCopyWarning: \n",
      "A value is trying to be set on a copy of a slice from a DataFrame\n",
      "\n",
      "See the caveats in the documentation: http://pandas.pydata.org/pandas-docs/stable/user_guide/indexing.html#returning-a-view-versus-a-copy\n",
      "  self._setitem_with_indexer(indexer, value)\n"
     ]
    }
   ],
   "source": [
    "print(f500[\"ceo\"].loc['Dow Chemical'])\n",
    "f500[\"ceo\"].loc['Dow Chemical'] = 'Jim Fitterling'\n",
    "print(f500[\"ceo\"].loc['Dow Chemical'])"
   ]
  },
  {
   "cell_type": "code",
   "execution_count": 58,
   "metadata": {},
   "outputs": [
    {
     "name": "stdout",
     "output_type": "stream",
     "text": [
      "(34,)\n",
      "Toyota Motor        Japan\n",
      "Volkswagen        Germany\n",
      "Daimler           Germany\n",
      "General Motors        USA\n",
      "Ford Motor            USA\n",
      "Name: country, dtype: object\n",
      "\n",
      "\n",
      "OR we can just use: \n",
      "  f500.loc[f500[\"industry\"]==\"Motor Vehicles and Parts\", \"country\"] \n",
      "Toyota Motor        Japan\n",
      "Volkswagen        Germany\n",
      "Daimler           Germany\n",
      "General Motors        USA\n",
      "Ford Motor            USA\n",
      "Name: country, dtype: object\n",
      "\n",
      "***NOTE: ONLY COUPLE LINES ARE PRINTED\n"
     ]
    }
   ],
   "source": [
    "motor_bool = f500[\"industry\"] == \"Motor Vehicles and Parts\"\n",
    "motor_countries = f500.loc[motor_bool,\"country\"]\n",
    "print(motor_countries.shape)\n",
    "print(motor_countries[0:5])\n",
    "\n",
    "print(\"\"\"\\n\\nOR we can just use: \\n  f500.loc[f500[\"industry\"]==\"Motor Vehicles and Parts\", \"country\"] \"\"\")\n",
    "print(f500.loc[f500[\"industry\"]==\"Motor Vehicles and Parts\",\"country\"][0:5])\n",
    "\n",
    "print('\\n***NOTE: ONLY COUPLE LINES ARE PRINTED')"
   ]
  },
  {
   "cell_type": "code",
   "execution_count": 59,
   "metadata": {},
   "outputs": [
    {
     "name": "stdout",
     "output_type": "stream",
     "text": [
      "Legal & General Group     0\n",
      "Uniper                    0\n",
      "Dell Technologies         0\n",
      "Anbang Insurance Group    0\n",
      "Albertsons Cos.           0\n",
      "Name: previous_rank, dtype: int64\n",
      "<class 'pandas.core.series.Series'>\n",
      "(33,)\n",
      "0\n",
      "\n",
      "----------------------\n",
      "0      33\n",
      "159     1\n",
      "147     1\n",
      "148     1\n",
      "149     1\n",
      "Name: previous_rank, dtype: int64\n",
      "\n",
      "\n",
      "NaN      33\n",
      "471.0     1\n",
      "234.0     1\n",
      "125.0     1\n",
      "166.0     1\n",
      "Name: previous_rank, dtype: int64\n",
      "\n",
      "\n",
      "Walmart                     0.0\n",
      "State Grid                  0.0\n",
      "Sinopec Group              -1.0\n",
      "China National Petroleum    1.0\n",
      "Toyota Motor               -3.0\n",
      "Name: rank_change, dtype: float64\n",
      "count    467.000000\n",
      "mean       3.533191\n",
      "std       44.293603\n",
      "min     -226.000000\n",
      "25%      -10.000000\n",
      "50%        2.000000\n",
      "75%       21.000000\n",
      "max      199.000000\n",
      "Name: rank_change, dtype: float64\n",
      "\n",
      "----------------------\n",
      "Banks: Commercial and Savings               8\n",
      "Insurance: Property and Casualty (Stock)    7\n",
      "Name: industry, dtype: int64\n",
      "\n",
      "----------------------\n",
      "Financials     25\n",
      "Energy         22\n",
      "Wholesalers     9\n",
      "Name: sector, dtype: int64\n",
      "\n",
      "----------------------\n",
      "104564.45098039215\n"
     ]
    }
   ],
   "source": [
    "import numpy as np\n",
    "import pandas as pd\n",
    "\n",
    "f500 = pd.read_csv('/Users/spare/Downloads/projects_python/f500.csv', index_col=0)\n",
    "f500.index.name = None\n",
    "\n",
    "# Create a Series of 1 dimention array ('previous_rank' column only) that has 'previous_rank'==0\n",
    "# - f500.loc[] --> location (value)\n",
    "# - f500[\"previous_rank\"]==0 --> locate \"boolean\" column\n",
    "# - \"previous_rank\" --> only \"take\" that column\n",
    "a = f500.loc[f500[\"previous_rank\"] ==0, \"previous_rank\"]\n",
    "print(a.head())\n",
    "print(type(a))\n",
    "print(a.shape)\n",
    "print(a[0]) #a is an array\n",
    "\n",
    "\n",
    "print('\\n----------------------')\n",
    "prev_rank_before = f500[\"previous_rank\"].value_counts(dropna=False)\n",
    "print(prev_rank_before.head())\n",
    "\n",
    "print('\\n')\n",
    "f500.loc[f500[\"previous_rank\"]==0, \"previous_rank\"] = np.nan\n",
    "prev_rank_after = f500[\"previous_rank\"].value_counts(dropna=False)\n",
    "print(prev_rank_after.head())\n",
    "\n",
    "print('\\n')\n",
    "f500['rank_change'] = f500['rank'] - f500['previous_rank']\n",
    "rank_change = f500['rank_change']\n",
    "print(rank_change.head())\n",
    "print(rank_change.describe())\n",
    "\n",
    "#Create series 'industry_usa', containing counts of the two most common values \n",
    "#  in the industry column for companies headquartered in the USA.\n",
    "print('\\n----------------------')\n",
    "industry_usa = f500.loc[f500['country']=='USA', 'industry'].value_counts().head(2)\n",
    "print(industry_usa)\n",
    "\n",
    "#Create series 'sector_china' containing counts of the three most common values\n",
    "#  in the sector column for companies headquartered in the China.\n",
    "print('\\n----------------------')\n",
    "sector_china = f500.loc[f500['country']=='China', 'sector'].value_counts().head(3)\n",
    "print(sector_china)\n",
    "\n",
    "#Create a float object, mean_employees_japan, containing the mean (average) \n",
    "#  number of employees for companies headquartered in Japan.\n",
    "print('\\n----------------------')\n",
    "mean_employees_japan = f500.loc[f500['country']=='Japan','employees'].mean()\n",
    "print(mean_employees_japan)"
   ]
  },
  {
   "cell_type": "markdown",
   "metadata": {},
   "source": [
    "[Back to Pandas](#Pandas) [Back to Top](#Top)"
   ]
  },
  {
   "cell_type": "markdown",
   "metadata": {},
   "source": [
    "## RegEx\n",
    "[Grouping](#Grouping)\n",
    "[Wildcards](#Wildcards)\n",
    "\n",
    "[Find_and_Replace](#Find_and_Replace)\n",
    "\n"
   ]
  },
  {
   "cell_type": "markdown",
   "metadata": {},
   "source": [
    "#### RegEx method with .complile() .search() .findall()"
   ]
  },
  {
   "cell_type": "code",
   "execution_count": 60,
   "metadata": {},
   "outputs": [],
   "source": [
    "import re"
   ]
  },
  {
   "cell_type": "code",
   "execution_count": 61,
   "metadata": {},
   "outputs": [
    {
     "name": "stdout",
     "output_type": "stream",
     "text": [
      "<class 're.Pattern'>\n",
      "\n",
      "Using .search():\n",
      "<class 're.Match'>\n",
      "<re.Match object; span=(8, 20), match='415-333-1233'>\n",
      "415-333-1233\n",
      "\n",
      "Using .findall():\n",
      "<class 'list'>\n",
      "['415-333-1233', '343-343-2343']\n"
     ]
    }
   ],
   "source": [
    "message = \"Call me 415-333-1233 or 343-343-2343\"\n",
    "\n",
    "phoneNumRegex = re.compile(r'\\d\\d\\d-\\d\\d\\d-\\d\\d\\d\\d') #r means raw\n",
    "print(type(phoneNumRegex))\n",
    "\n",
    "print('\\nUsing .search():')\n",
    "match_object = phoneNumRegex.search(message)\n",
    "print(type(match_object))\n",
    "print(match_object)\n",
    "print(match_object.group())\n",
    "\n",
    "print('\\nUsing .findall():')\n",
    "match_object = phoneNumRegex.findall(message)\n",
    "print(type(match_object))\n",
    "print(match_object)"
   ]
  },
  {
   "cell_type": "markdown",
   "metadata": {},
   "source": [
    "#### Grouping"
   ]
  },
  {
   "cell_type": "code",
   "execution_count": 62,
   "metadata": {},
   "outputs": [
    {
     "name": "stdout",
     "output_type": "stream",
     "text": [
      "415-333-1233\n",
      "415\n",
      "333-1233\n",
      "-------------------------\n",
      "(415) 343-2343\n"
     ]
    }
   ],
   "source": [
    "message = \"Call me 415-333-1233 or (415) 343-2343\"\n",
    "\n",
    "phoneNumRegex = re.compile(r'(\\d\\d\\d)-(\\d\\d\\d-\\d\\d\\d\\d)')\n",
    "mo = phoneNumRegex.search(message)\n",
    "print(mo.group())\n",
    "print(mo.group(1))\n",
    "print(mo.group(2))\n",
    "\n",
    "print('-------------------------')\n",
    "phoneNumRegex = re.compile(r'\\(\\d\\d\\d\\) \\d\\d\\d-\\d\\d\\d\\d')\n",
    "mo = phoneNumRegex.search(message)\n",
    "print(mo.group())\n"
   ]
  },
  {
   "cell_type": "markdown",
   "metadata": {},
   "source": [
    "#### Using [] instead of pipe |"
   ]
  },
  {
   "cell_type": "code",
   "execution_count": 63,
   "metadata": {},
   "outputs": [
    {
     "name": "stdout",
     "output_type": "stream",
     "text": [
      "batman\n",
      "batmobile\n",
      "True\n"
     ]
    }
   ],
   "source": [
    "regex_comp=re.compile(r'bat(man|mobile|coper)')\n",
    "mo = regex_comp.search('who is batman?')\n",
    "print(mo.group())\n",
    "\n",
    "mo = regex_comp.search('batmobile is broken?')\n",
    "print(mo.group())\n",
    "\n",
    "mo = regex_comp.search('batwoman is driving a car?')\n",
    "print(mo==None)"
   ]
  },
  {
   "cell_type": "code",
   "execution_count": 64,
   "metadata": {},
   "outputs": [
    {
     "name": "stdout",
     "output_type": "stream",
     "text": [
      "\n",
      "\n",
      "['ea', 'ie', 'ai', 'ee', 'ea', 'ee']\n",
      "\n",
      "\n",
      "['11', ' P', 'rs', ' P', 'ng', ', ', '10', ' L', 'rd', 's ', ' L', 'ng', ', ', '9 ', 's ', 'nc', 'ng', ', ', '8 ', 'ds', ' M', 'lk', 'ng', '\\n,', ' 7', ' S', 'ns', ' S', 'mm', 'ng', ', ', '6 ', ' L', 'ng', ', ', '5 ', 'ld', 'n ', 'ng', 's,', ' 4', ' C', 'll', 'ng', ' B', 'rd', 's,', ' 3', ' F', 'nc', 'h ', 'ns', '\\n,', ' 2', ' T', 'rt', ' D', 's ', 'nd', ' P', 'rt', 'dg', 'n ', ' P', 'r ', 'Tr']\n"
     ]
    }
   ],
   "source": [
    "lyrics = \"\"\"11 Pipers Piping, 10 Lords a Leaping, 9 Ladies Dancing, 8 Maids a Milking\n",
    ", 7 Swans a Swimming, 6 Geese a Laying, 5 Golden Rings, 4 Calling Birds, 3 French Hens\n",
    ", 2 Turtle Doves and a Partridge in a Pear Tree\"\"\"\n",
    "\n",
    "print('\\n')\n",
    "regex_comp2 = re.compile(r'[aieuoAIEUO]{2}') #similar to (a|i|...)\n",
    "mo = regex_comp2.findall(lyrics)\n",
    "print(mo)\n",
    "\n",
    "print('\\n')\n",
    "regex_comp3 = re.compile(r'[^aieuoAIEUO]{2}') \n",
    "# ^ = NOT, in this case, otherwise ^ begining of the string\n",
    "mo = regex_comp3.findall(lyrics)\n",
    "print(mo)"
   ]
  },
  {
   "cell_type": "markdown",
   "metadata": {},
   "source": [
    "[Back to RegEx](#RegEx) [Back to Top](#Top)\n",
    "\n",
    "#### Wildcards\n",
    "##### Match repetition using Wildcard ? + * {} \n",
    "- ? is 0 or 1 time\n",
    "- \\+ is 1 or more time\n",
    "- \\* is 0 or more time\n",
    "- . is any characters except newline\n",
    "- {} is number of repetition"
   ]
  },
  {
   "cell_type": "code",
   "execution_count": 65,
   "metadata": {},
   "outputs": [
    {
     "name": "stdout",
     "output_type": "stream",
     "text": [
      "217-721-3126\n",
      "721-3126\n"
     ]
    }
   ],
   "source": [
    "regex_comp = re.compile(r'(\\d\\d\\d-)?\\d\\d\\d-\\d\\d\\d\\d')\n",
    "\n",
    "mo = regex_comp.search(\"My phone number is 217-721-3126. Call me.\")\n",
    "print(mo.group())\n",
    "mo = regex_comp.search(\"My phone number is 721-3126. Call me.\")\n",
    "print(mo.group())\n"
   ]
  },
  {
   "cell_type": "code",
   "execution_count": 66,
   "metadata": {},
   "outputs": [
    {
     "name": "stdout",
     "output_type": "stream",
     "text": [
      "hahaha\n",
      "-------------------------------\n",
      "ha\n",
      "True\n"
     ]
    }
   ],
   "source": [
    "regex_comp = re.compile(r'(ha){1,3}')\n",
    "mo = regex_comp.search(\"hahahahaha\")\n",
    "print(mo.group()) #return the MOST match - \"GREEDY\"\n",
    "\n",
    "print('-------------------------------')\n",
    "regex_comp = re.compile(r'(ha){1,3}?')\n",
    "mo = regex_comp.search(\"hahahahaha\")\n",
    "print(mo.group()) #return the LEAST depending on ? - \"non-GREEDY\"\n",
    "\n",
    "mo = regex_comp.search(\"hello\")\n",
    "print(mo==None)\n"
   ]
  },
  {
   "cell_type": "markdown",
   "metadata": {},
   "source": [
    "#### Different types of matching characters\n",
    "For example, \n",
    "- \\d for digits\n",
    "- \\s for space \n",
    "- \\w for word character"
   ]
  },
  {
   "cell_type": "code",
   "execution_count": 67,
   "metadata": {},
   "outputs": [
    {
     "name": "stdout",
     "output_type": "stream",
     "text": [
      "['11 Pipers', '10 Lords', '9 Ladies', '8 Maids', '7 Swans', '6 Geese', '5 Golden', '4 Calling', '3 French', '2 Turtle']\n"
     ]
    }
   ],
   "source": [
    "lyrics = \"\"\"11 Pipers Piping, 10 Lords a Leaping, 9 Ladies Dancing, 8 Maids a Milking\n",
    ", 7 Swans a Swimming, 6 Geese a Laying, 5 Golden Rings, 4 Calling Birds, 3 French Hens\n",
    ", 2 Turtle Doves and a Partridge in a Pear Tree\"\"\"\n",
    "\n",
    "regex_comp1 = re.compile(r'\\d+\\s\\w*')\n",
    "mo = regex_comp1.findall(lyrics)\n",
    "print(mo)\n"
   ]
  },
  {
   "cell_type": "markdown",
   "metadata": {},
   "source": [
    "#### Begin & End of line using ^ and \\$"
   ]
  },
  {
   "cell_type": "code",
   "execution_count": 68,
   "metadata": {},
   "outputs": [
    {
     "name": "stdout",
     "output_type": "stream",
     "text": [
      "['Hello']\n",
      "[]\n",
      "['Hello']\n",
      "\n",
      "\n",
      "['1233432423432']\n",
      "[]\n"
     ]
    }
   ],
   "source": [
    "regex = re.compile(r'^Hello')\n",
    "mo = regex.findall('Hello there')\n",
    "print(mo)\n",
    "\n",
    "mo = regex.findall('Just say Hello')\n",
    "print(mo)\n",
    "\n",
    "regex = re.compile(r'Hello$')\n",
    "mo = regex.findall('Just say Hello')\n",
    "print(mo)\n",
    "\n",
    "\n",
    "print('\\n')\n",
    "regex = re.compile(r'^\\d+$')\n",
    "mo = regex.findall('1233432423432')\n",
    "print(mo)\n",
    "\n",
    "mo = regex.findall('12334x32423432')\n",
    "print(mo)"
   ]
  },
  {
   "cell_type": "markdown",
   "metadata": {},
   "source": [
    "#### Combine Wild card . and *\n",
    "- \\. is any single character, EXCEPT new line."
   ]
  },
  {
   "cell_type": "code",
   "execution_count": 69,
   "metadata": {},
   "outputs": [
    {
     "name": "stdout",
     "output_type": "stream",
     "text": [
      "[('First name: Leon, Last name: Truong', 'Leon', 'Truong')]\n",
      "<class 'list'>\n",
      "1\n",
      "First name: Leon, Last name: Truong\n",
      "<class 'tuple'>\n",
      "\n",
      "-------------\n",
      "non-GREEDY match:\n",
      "['<to serve human>']\n",
      "\n",
      "GREEDY match:\n",
      "['<to serve human> for dinner.>']\n"
     ]
    }
   ],
   "source": [
    "string = 'First name: Leon, Last name: Truong'\n",
    "regex = re.compile(r'(First name: (.*), Last name: (.*))' ) #.*  is GREEDY\n",
    "mo = regex.findall(string)\n",
    "print(mo)\n",
    "print(type(mo))\n",
    "print(len(mo))\n",
    "print(mo[0][0])\n",
    "print(type(mo[0]))\n",
    "\n",
    "print('\\n-------------')\n",
    "print('non-GREEDY match:')\n",
    "string = '<to serve human> for dinner.>'\n",
    "regex = re.compile(r'<.*?>') #.*? non-GREEDY\n",
    "mo = regex.findall(string)\n",
    "print(mo)\n",
    "\n",
    "print('\\nGREEDY match:')\n",
    "regex = re.compile(r'<.*>') #.*? GREEDY\n",
    "mo = regex.findall(string)\n",
    "print(mo)\n"
   ]
  },
  {
   "cell_type": "markdown",
   "metadata": {},
   "source": [
    "[Back to RegEx](#RegEx) [Back to Top](#Top)"
   ]
  },
  {
   "cell_type": "markdown",
   "metadata": {},
   "source": [
    "#### Find_and_Replace\n",
    "- re.Pattern.sub()"
   ]
  },
  {
   "cell_type": "code",
   "execution_count": 70,
   "metadata": {},
   "outputs": [
    {
     "name": "stdout",
     "output_type": "stream",
     "text": [
      "<class 're.Pattern'>\n",
      "['Player Nathan ', 'Player Tom ']\n",
      "NoName has kicked NoName butt!\n",
      "\n",
      "\n",
      "['N', 'T']\n",
      "N--- has kicked T--- butt!\n"
     ]
    }
   ],
   "source": [
    "string = \"Player Nathan has kicked Player Tom butt!\"\n",
    "pat = re.compile(r'Player \\w+ ')\n",
    "print(type(pat))\n",
    "mo = pat.findall(string)\n",
    "print(mo)\n",
    "\n",
    "new_string = pat.sub('NoName ', string)\n",
    "print(new_string)\n",
    "\n",
    "\n",
    "print('\\n')\n",
    "pat = re.compile(r'Player (\\w)\\w+ ')\n",
    "mo = pat.findall(string)\n",
    "print(mo)\n",
    "new_string = pat.sub(r'\\1--- ',string) #\\1 means group 1\n",
    "print(new_string)\n"
   ]
  },
  {
   "cell_type": "markdown",
   "metadata": {},
   "source": [
    "#### re.VERBOSE\n",
    "- Can use # inside matching pattern for notation."
   ]
  },
  {
   "cell_type": "code",
   "execution_count": 71,
   "metadata": {},
   "outputs": [
    {
     "name": "stdout",
     "output_type": "stream",
     "text": [
      "['415-333-1233', '343-343-2343']\n"
     ]
    }
   ],
   "source": [
    "#pat = re.compile(r'\\d\\d\\d-\\d\\d\\d-\\d\\d\\d\\d')\n",
    "pat = re.compile(r'''\\d\\d\\d-          #area code\n",
    "                     \\d\\d\\d-\\d\\d\\d\\d  #the rest of the number''', re.VERBOSE|re.IGNORECASE)\n",
    "\n",
    "message = \"Call me 415-333-1233 or 343-343-2343\"\n",
    "print(pat.findall(message))"
   ]
  },
  {
   "cell_type": "markdown",
   "metadata": {},
   "source": [
    "[Back to RegEx](#RegEx) [Back to Top](#Top)"
   ]
  }
 ],
 "metadata": {
  "kernelspec": {
   "display_name": "Python 3",
   "language": "python",
   "name": "python3"
  },
  "language_info": {
   "codemirror_mode": {
    "name": "ipython",
    "version": 3
   },
   "file_extension": ".py",
   "mimetype": "text/x-python",
   "name": "python",
   "nbconvert_exporter": "python",
   "pygments_lexer": "ipython3",
   "version": "3.7.4"
  }
 },
 "nbformat": 4,
 "nbformat_minor": 2
}
